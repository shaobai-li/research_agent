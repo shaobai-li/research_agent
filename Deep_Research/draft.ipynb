{
 "cells": [
  {
   "cell_type": "code",
   "execution_count": 2,
   "id": "6897a3ab",
   "metadata": {},
   "outputs": [],
   "source": [
    "import os\n",
    "from dotenv import load_dotenv\n",
    "import openai\n",
    "from dataclasses import dataclass, field\n",
    "from typing import List\n",
    "import json\n",
    "from system_prompts import SYSTEM_PROMPT_REPORT_STRUCTURE, SYSTEM_PROMPT_FIRST_SEARCH, SYSTEM_PROMPT_FIRST_SUMMARY, SYSTEM_PROMPT_REFLECTION\n",
    "from search_tool import tavily_search"
   ]
  },
  {
   "cell_type": "markdown",
   "id": "66753838",
   "metadata": {},
   "source": [
    "### 加载环境变量和预定义函数及数据结构"
   ]
  },
  {
   "cell_type": "code",
   "execution_count": 3,
   "id": "29304bf6",
   "metadata": {},
   "outputs": [],
   "source": [
    "load_dotenv()\n",
    "\n",
    "@dataclass\n",
    "class Search:\n",
    "    url: str = \"\"\n",
    "    content: str = \"\"\n",
    "    \n",
    "@dataclass\n",
    "class Research:\n",
    "    search_history: List[Search] = field(default_factory=list)\n",
    "    latest_summary: str = \"\"\n",
    "    reflection_iteration: int = 0\n",
    "\n",
    "@dataclass\n",
    "class Paragraph:\n",
    "    title: str = \"\"\n",
    "    content: str = \"\"\n",
    "    research: Research = field(default_factory=Research)\n",
    "\n",
    "@dataclass\n",
    "class State:\n",
    "    report_title: str = \"\"\n",
    "    paragraphs: List[Paragraph] = field(default_factory=list)\n",
    "\n",
    "\n",
    "def clean_json_tags(json_str):\n",
    "    return json_str.replace(\"```json\", \"\").replace(\"```\", \"\").strip()\n",
    "\n",
    "def update_state_with_search_results(search_results, idx_paragraph, state):\n",
    "\n",
    "    for search_result in search_results[\"results\"]:\n",
    "        search = Search(url=search_result[\"url\"], content=search_result[\"content\"])\n",
    "        state.paragraphs[idx_paragraph].research.search_history.append(search)\n",
    "    return state\n",
    "\n"
   ]
  },
  {
   "cell_type": "markdown",
   "id": "faa26a39",
   "metadata": {},
   "source": [
    "### 初始化状态"
   ]
  },
  {
   "cell_type": "code",
   "execution_count": 4,
   "id": "da54c9c3",
   "metadata": {},
   "outputs": [],
   "source": [
    "STATE = State()"
   ]
  },
  {
   "cell_type": "markdown",
   "id": "1b52cee8",
   "metadata": {},
   "source": [
    "### 报告大纲智能体"
   ]
  },
  {
   "cell_type": "code",
   "execution_count": 5,
   "id": "e43bc053",
   "metadata": {},
   "outputs": [],
   "source": [
    "class ReportStructureAgent:\n",
    "    def __init__(self):\n",
    "        self.llm = openai.OpenAI(api_key=os.getenv(\"OPENAI_API_KEY\"))\n",
    "\n",
    "    def get_system_prompt(self):        \n",
    "        output_schema_report_structure = {\n",
    "                \"type\": \"array\",\n",
    "                \"items\": {\n",
    "                    \"type\": \"object\",\n",
    "                    \"properties\": {\n",
    "                        \"title\": {\"type\": \"string\"},\n",
    "                        \"content\": {\"type\": \"string\"}\n",
    "                    }\n",
    "                }\n",
    "            }\n",
    "\n",
    "        example_output_report_structure = \"\"\"\n",
    "```json\n",
    "[\n",
    "{\n",
    "    \"title\": \"智能体的定义\",\n",
    "    \"content\": \"智能体是具有感知、决策、执行和学习能力的自主系统。\"\n",
    "},\n",
    "{\n",
    "    \"title\": \"智能体的分类\",\n",
    "    \"content\": \"智能体可以分为以下几类：\"\n",
    "}\n",
    "]\n",
    "```\n",
    "\"\"\"\n",
    "\n",
    "        system_prompt = f\"\"\"\n",
    "你是一个深度调研助手。针对一个查询任务，请规划一份报告的结构以及应包含的段落内容。\n",
    "请确保段落的排列顺序合理。\n",
    "结构制定完成后，你将获得工具来分别为每个部分进行网页搜索和反思。\n",
    "请按照以下 JSON 格式定义的格式输出结果：\n",
    "\n",
    "<OUTPUT JSON SCHEMA>\n",
    "{json.dumps(output_schema_report_structure, indent=2)}\n",
    "</OUTPUT JSON SCHEMA>\n",
    "\n",
    "标题（title）和内容（content）属性将用于后续的深入研究。\n",
    "请确保输出是一个符合上述 JSON 格式定义的 JSON 对象。\n",
    "只返回 JSON 对象，不要附加任何解释或额外文本。\n",
    "\n",
    "<EXAMPLE OUTPUT>\n",
    "{example_output_report_structure}\n",
    "</EXAMPLE OUTPUT>\n",
    "\"\"\"\n",
    "\n",
    "        return system_prompt\n",
    "        \n",
    "    def run(self, input):\n",
    "        response = self.llm.chat.completions.create(\n",
    "            model=\"gpt-4o-2024-08-06\",\n",
    "            messages=[\n",
    "                {\"role\": \"system\", \"content\": self.get_system_prompt()},\n",
    "                {\"role\": \"user\", \"content\": input}\n",
    "            ],\n",
    "            stream=False\n",
    "        )\n",
    "\n",
    "        report_structure = json.loads(clean_json_tags(response.choices[0].message.content))\n",
    "\n",
    "        return report_structure"
   ]
  },
  {
   "cell_type": "code",
   "execution_count": 6,
   "id": "2ec04e65",
   "metadata": {},
   "outputs": [
    {
     "name": "stdout",
     "output_type": "stream",
     "text": [
      "报告大纲：\n",
      "第0个段落标题: Web3.0的定义和背景\n",
      "第0个段落内容: 介绍Web3.0的概念及其起源，区分其与Web1.0和Web2.0的差异，强调去中心化和用户自主权的重要性。\n",
      "第1个段落标题: Web3.0的关键技术\n",
      "第1个段落内容: 探讨区块链、智能合约、去中心化应用（DApps）、分布式共识机制等Web3.0的核心技术及其运作方式。\n",
      "第2个段落标题: Web3.0的开发工具和框架\n",
      "第2个段落内容: 列举支持Web3.0开发的主要工具和框架，如Truffle、React、Web3.js等，并说明其功能和使用场景。\n",
      "第3个段落标题: 开发Web3.0应用的流程\n",
      "第3个段落内容: 介绍如何从概念到实现进行Web3.0应用开发的基本流程，包括需求分析、智能合约编写、前后端集成等步骤。\n",
      "第4个段落标题: Web3.0的安全性和隐私\n",
      "第4个段落内容: 分析Web3.0在安全性和隐私保护方面的挑战和对策，探讨常见的安全漏洞及如何防范。\n",
      "第5个段落标题: Web3.0的行业应用场景\n",
      "第5个段落内容: 展示Web3.0技术在金融、供应链、社交媒体、数字身份等行业的应用案例，分析其带来的创新和优势。\n",
      "第6个段落标题: Web3.0开发的挑战与机遇\n",
      "第6个段落内容: 讨论目前Web3.0在开发过程中面临的技术、法律、用户体验等挑战，以及其带来的市场机遇和未来趋势。\n",
      "第7个段落标题: 如何学习和加入Web3.0社区\n",
      "第7个段落内容: 提供学习Web3.0开发的资源和机会，介绍相关的社区、论坛和培训课程，帮助开发者快速上手和深度参与。\n"
     ]
    }
   ],
   "source": [
    "research_structure_agent = ReportStructureAgent()\n",
    "\n",
    "research_input = \"请帮我调研一下web3.0的开发\"\n",
    "\n",
    "report_structure = research_structure_agent.run(research_input)\n",
    "for paragraph in report_structure:\n",
    "    STATE.paragraphs.append(Paragraph(title=paragraph[\"title\"], content=paragraph[\"content\"]))\n",
    "\n",
    "print(\"报告大纲：\")\n",
    "for i, paragraph in enumerate(STATE.paragraphs):\n",
    "    print(f\"第{i}个段落标题: {paragraph.title}\") \n",
    "    print(f\"第{i}个段落内容: {paragraph.content}\")"
   ]
  },
  {
   "cell_type": "markdown",
   "id": "eb81090a",
   "metadata": {},
   "source": [
    "### 搜索智能体"
   ]
  },
  {
   "cell_type": "code",
   "execution_count": null,
   "id": "97bcb447",
   "metadata": {},
   "outputs": [],
   "source": [
    "class SearchAgent:\n",
    "    def __init__(self):\n",
    "        self.llm = openai.OpenAI(api_key=os.getenv(\"OPENAI_API_KEY\"))\n",
    "\n",
    "    def get_system_prompt(self):\n",
    "        \n",
    "\n",
    "        input_schema_first_search = {\n",
    "                    \"type\": \"object\",\n",
    "                    \"properties\": {\n",
    "                        \"title\": {\"type\": \"string\"},\n",
    "                        \"content\": {\"type\": \"string\"}\n",
    "                    }\n",
    "                }\n",
    "\n",
    "        output_schema_first_search = {\n",
    "                    \"type\": \"object\",\n",
    "                    \"properties\": {\n",
    "                        \"search_query\": {\"type\": \"string\"},\n",
    "                        \"reasoning\": {\"type\": \"string\"}\n",
    "                    }\n",
    "                }\n",
    "\n",
    "\n",
    "        system_prompt = f\"\"\"\n",
    "你是一个深度研究助手。你将会被提供一段报告中的段落、它的标题以及期望内容，格式如下的 JSON 格式定义：\n",
    "\n",
    "<INPUT JSON SCHEMA>\n",
    "{json.dumps(input_schema_first_search, indent=2)}\n",
    "</INPUT JSON SCHEMA>\n",
    "\n",
    "你可以使用一个网页搜索工具，该工具接受一个 search_query 作为参数。\n",
    "你的任务是对该主题进行思考，并提供一个最优的网页搜索查询（请使用中文），以丰富你当前的知识。\n",
    "请按照以下的 JSON 格式定义来格式化你的输出：\n",
    "\n",
    "<OUTPUT JSON SCHEMA>\n",
    "{json.dumps(output_schema_first_search, indent=2)}\n",
    "</OUTPUT JSON SCHEMA>\n",
    "\n",
    "请确保你的输出是一个符合上述输出 JSON 架构定义的 JSON 对象。\n",
    "只返回 JSON 对象，不要附加任何解释或其他文本。\n",
    "\"\"\"\n",
    "\n",
    "        return system_prompt\n",
    "\n",
    "    def run(self, input):                \n",
    "        response = self.llm.chat.completions.create(\n",
    "            model=\"gpt-4o-2024-08-06\",\n",
    "            messages=[\n",
    "                {\"role\":\"system\",\"content\":SYSTEM_PROMPT_FIRST_SEARCH},\n",
    "                {\"role\":\"user\",\"content\":json.dumps(input)}\n",
    "                ],\n",
    "            temperature=1\n",
    "            )\n",
    "        \n",
    "        search_arguments = json.loads(clean_json_tags(response.choices[0].message.content))\n",
    "\n",
    "        return search_arguments\n",
    "    \n"
   ]
  },
  {
   "cell_type": "code",
   "execution_count": null,
   "id": "b43f7967",
   "metadata": {},
   "outputs": [
    {
     "name": "stdout",
     "output_type": "stream",
     "text": [
      "```json\n",
      "{\n",
      "  \"search_query\": \"Web3.0 概念 起源 区别 Web1.0 Web2.0 去中心化 用户自主权\",\n",
      "  \"reasoning\": \"为了详细了解Web3.0的定义和背景，我需要搜索有关Web3.0的概念和其起源。了解Web1.0和Web2.0的区别有助于更好地理解Web3.0的创新和改进之处。此外，去中心化和用户自主权是Web3.0的重要特点，深入探讨这些主题能够帮助我全面理解Web3.0的核心价值和潜在影响。\"\n",
      "}\n",
      "```\n"
     ]
    },
    {
     "ename": "JSONDecodeError",
     "evalue": "Expecting value: line 1 column 1 (char 0)",
     "output_type": "error",
     "traceback": [
      "\u001b[1;31m---------------------------------------------------------------------------\u001b[0m",
      "\u001b[1;31mJSONDecodeError\u001b[0m                           Traceback (most recent call last)",
      "Cell \u001b[1;32mIn[19], line 9\u001b[0m\n\u001b[0;32m      1\u001b[0m search_agent \u001b[38;5;241m=\u001b[39m SearchAgent()\n\u001b[0;32m      3\u001b[0m search_input \u001b[38;5;241m=\u001b[39m {\n\u001b[0;32m      4\u001b[0m     \u001b[38;5;124m\"\u001b[39m\u001b[38;5;124mtitle\u001b[39m\u001b[38;5;124m\"\u001b[39m: STATE\u001b[38;5;241m.\u001b[39mparagraphs[\u001b[38;5;241m0\u001b[39m]\u001b[38;5;241m.\u001b[39mtitle,\n\u001b[0;32m      5\u001b[0m     \u001b[38;5;124m\"\u001b[39m\u001b[38;5;124mcontent\u001b[39m\u001b[38;5;124m\"\u001b[39m: STATE\u001b[38;5;241m.\u001b[39mparagraphs[\u001b[38;5;241m0\u001b[39m]\u001b[38;5;241m.\u001b[39mcontent\n\u001b[0;32m      6\u001b[0m }\n\u001b[1;32m----> 9\u001b[0m search_arguments \u001b[38;5;241m=\u001b[39m search_agent\u001b[38;5;241m.\u001b[39mrun(search_input)\n",
      "Cell \u001b[1;32mIn[18], line 57\u001b[0m, in \u001b[0;36mSearchAgent.run\u001b[1;34m(self, input)\u001b[0m\n\u001b[0;32m     47\u001b[0m response \u001b[38;5;241m=\u001b[39m \u001b[38;5;28mself\u001b[39m\u001b[38;5;241m.\u001b[39mllm\u001b[38;5;241m.\u001b[39mchat\u001b[38;5;241m.\u001b[39mcompletions\u001b[38;5;241m.\u001b[39mcreate(\n\u001b[0;32m     48\u001b[0m     model\u001b[38;5;241m=\u001b[39m\u001b[38;5;124m\"\u001b[39m\u001b[38;5;124mgpt-4o-2024-08-06\u001b[39m\u001b[38;5;124m\"\u001b[39m,\n\u001b[0;32m     49\u001b[0m     messages\u001b[38;5;241m=\u001b[39m[\n\u001b[1;32m   (...)\u001b[0m\n\u001b[0;32m     53\u001b[0m     temperature\u001b[38;5;241m=\u001b[39m\u001b[38;5;241m1\u001b[39m\n\u001b[0;32m     54\u001b[0m     )\n\u001b[0;32m     56\u001b[0m \u001b[38;5;28mprint\u001b[39m(response\u001b[38;5;241m.\u001b[39mchoices[\u001b[38;5;241m0\u001b[39m]\u001b[38;5;241m.\u001b[39mmessage\u001b[38;5;241m.\u001b[39mcontent)\n\u001b[1;32m---> 57\u001b[0m search_arguments \u001b[38;5;241m=\u001b[39m json\u001b[38;5;241m.\u001b[39mloads(response\u001b[38;5;241m.\u001b[39mchoices[\u001b[38;5;241m0\u001b[39m]\u001b[38;5;241m.\u001b[39mmessage\u001b[38;5;241m.\u001b[39mcontent)\n\u001b[0;32m     59\u001b[0m \u001b[38;5;28;01mreturn\u001b[39;00m search_arguments\n",
      "File \u001b[1;32md:\\prog\\miniconda3\\envs\\agent\\Lib\\json\\__init__.py:346\u001b[0m, in \u001b[0;36mloads\u001b[1;34m(s, cls, object_hook, parse_float, parse_int, parse_constant, object_pairs_hook, **kw)\u001b[0m\n\u001b[0;32m    341\u001b[0m     s \u001b[38;5;241m=\u001b[39m s\u001b[38;5;241m.\u001b[39mdecode(detect_encoding(s), \u001b[38;5;124m'\u001b[39m\u001b[38;5;124msurrogatepass\u001b[39m\u001b[38;5;124m'\u001b[39m)\n\u001b[0;32m    343\u001b[0m \u001b[38;5;28;01mif\u001b[39;00m (\u001b[38;5;28mcls\u001b[39m \u001b[38;5;129;01mis\u001b[39;00m \u001b[38;5;28;01mNone\u001b[39;00m \u001b[38;5;129;01mand\u001b[39;00m object_hook \u001b[38;5;129;01mis\u001b[39;00m \u001b[38;5;28;01mNone\u001b[39;00m \u001b[38;5;129;01mand\u001b[39;00m\n\u001b[0;32m    344\u001b[0m         parse_int \u001b[38;5;129;01mis\u001b[39;00m \u001b[38;5;28;01mNone\u001b[39;00m \u001b[38;5;129;01mand\u001b[39;00m parse_float \u001b[38;5;129;01mis\u001b[39;00m \u001b[38;5;28;01mNone\u001b[39;00m \u001b[38;5;129;01mand\u001b[39;00m\n\u001b[0;32m    345\u001b[0m         parse_constant \u001b[38;5;129;01mis\u001b[39;00m \u001b[38;5;28;01mNone\u001b[39;00m \u001b[38;5;129;01mand\u001b[39;00m object_pairs_hook \u001b[38;5;129;01mis\u001b[39;00m \u001b[38;5;28;01mNone\u001b[39;00m \u001b[38;5;129;01mand\u001b[39;00m \u001b[38;5;129;01mnot\u001b[39;00m kw):\n\u001b[1;32m--> 346\u001b[0m     \u001b[38;5;28;01mreturn\u001b[39;00m _default_decoder\u001b[38;5;241m.\u001b[39mdecode(s)\n\u001b[0;32m    347\u001b[0m \u001b[38;5;28;01mif\u001b[39;00m \u001b[38;5;28mcls\u001b[39m \u001b[38;5;129;01mis\u001b[39;00m \u001b[38;5;28;01mNone\u001b[39;00m:\n\u001b[0;32m    348\u001b[0m     \u001b[38;5;28mcls\u001b[39m \u001b[38;5;241m=\u001b[39m JSONDecoder\n",
      "File \u001b[1;32md:\\prog\\miniconda3\\envs\\agent\\Lib\\json\\decoder.py:337\u001b[0m, in \u001b[0;36mJSONDecoder.decode\u001b[1;34m(self, s, _w)\u001b[0m\n\u001b[0;32m    332\u001b[0m \u001b[38;5;28;01mdef\u001b[39;00m \u001b[38;5;21mdecode\u001b[39m(\u001b[38;5;28mself\u001b[39m, s, _w\u001b[38;5;241m=\u001b[39mWHITESPACE\u001b[38;5;241m.\u001b[39mmatch):\n\u001b[0;32m    333\u001b[0m \u001b[38;5;250m    \u001b[39m\u001b[38;5;124;03m\"\"\"Return the Python representation of ``s`` (a ``str`` instance\u001b[39;00m\n\u001b[0;32m    334\u001b[0m \u001b[38;5;124;03m    containing a JSON document).\u001b[39;00m\n\u001b[0;32m    335\u001b[0m \n\u001b[0;32m    336\u001b[0m \u001b[38;5;124;03m    \"\"\"\u001b[39;00m\n\u001b[1;32m--> 337\u001b[0m     obj, end \u001b[38;5;241m=\u001b[39m \u001b[38;5;28mself\u001b[39m\u001b[38;5;241m.\u001b[39mraw_decode(s, idx\u001b[38;5;241m=\u001b[39m_w(s, \u001b[38;5;241m0\u001b[39m)\u001b[38;5;241m.\u001b[39mend())\n\u001b[0;32m    338\u001b[0m     end \u001b[38;5;241m=\u001b[39m _w(s, end)\u001b[38;5;241m.\u001b[39mend()\n\u001b[0;32m    339\u001b[0m     \u001b[38;5;28;01mif\u001b[39;00m end \u001b[38;5;241m!=\u001b[39m \u001b[38;5;28mlen\u001b[39m(s):\n",
      "File \u001b[1;32md:\\prog\\miniconda3\\envs\\agent\\Lib\\json\\decoder.py:355\u001b[0m, in \u001b[0;36mJSONDecoder.raw_decode\u001b[1;34m(self, s, idx)\u001b[0m\n\u001b[0;32m    353\u001b[0m     obj, end \u001b[38;5;241m=\u001b[39m \u001b[38;5;28mself\u001b[39m\u001b[38;5;241m.\u001b[39mscan_once(s, idx)\n\u001b[0;32m    354\u001b[0m \u001b[38;5;28;01mexcept\u001b[39;00m \u001b[38;5;167;01mStopIteration\u001b[39;00m \u001b[38;5;28;01mas\u001b[39;00m err:\n\u001b[1;32m--> 355\u001b[0m     \u001b[38;5;28;01mraise\u001b[39;00m JSONDecodeError(\u001b[38;5;124m\"\u001b[39m\u001b[38;5;124mExpecting value\u001b[39m\u001b[38;5;124m\"\u001b[39m, s, err\u001b[38;5;241m.\u001b[39mvalue) \u001b[38;5;28;01mfrom\u001b[39;00m \u001b[38;5;28;01mNone\u001b[39;00m\n\u001b[0;32m    356\u001b[0m \u001b[38;5;28;01mreturn\u001b[39;00m obj, end\n",
      "\u001b[1;31mJSONDecodeError\u001b[0m: Expecting value: line 1 column 1 (char 0)"
     ]
    }
   ],
   "source": [
    "search_agent = SearchAgent()\n",
    "\n",
    "search_input = {\n",
    "    \"title\": STATE.paragraphs[0].title,\n",
    "    \"content\": STATE.paragraphs[0].content\n",
    "}\n",
    "\n",
    "\n",
    "search_arguments = search_agent.run(search_input)\n",
    "\n",
    "print(search_arguments[\"search_query\"])\n"
   ]
  },
  {
   "cell_type": "code",
   "execution_count": null,
   "id": "08bf082f",
   "metadata": {},
   "outputs": [
    {
     "name": "stdout",
     "output_type": "stream",
     "text": [
      "Web3.0 概念 起源 与 Web1.0 Web2.0 区别 去中心化 用户自主权\n"
     ]
    }
   ],
   "source": []
  },
  {
   "cell_type": "markdown",
   "id": "7cca1805",
   "metadata": {},
   "source": [
    "### 搜索工具"
   ]
  },
  {
   "cell_type": "code",
   "execution_count": 24,
   "id": "991870e7",
   "metadata": {},
   "outputs": [
    {
     "name": "stdout",
     "output_type": "stream",
     "text": [
      "https://qianfanmarket.baidu.com/article/detail/1069116\n",
      "去中心化：借助区块链技术，Web3实现了数据的去中心化存储和传输，有效降低了单点故障的风险，并提高了系统的抗攻击能力。 · 用户数据主权：在Web3时代，用户数据不再是各大平台的\n"
     ]
    }
   ],
   "source": [
    "search_keyword = search_input[\"search_query\"]\n",
    "\n",
    "search_output = tavily_search(search_input[\"search_query\"])\n",
    "\n",
    "STATE = update_state_with_search_results(search_output, 0, STATE)\n",
    "\n",
    "\n",
    "for search in STATE.paragraphs[0].research.search_history:\n",
    "    print(search.url)\n",
    "    print(search.content)\n",
    "    break\n"
   ]
  },
  {
   "cell_type": "markdown",
   "id": "25635003",
   "metadata": {},
   "source": [
    "### 段落输出智能体"
   ]
  },
  {
   "cell_type": "code",
   "execution_count": null,
   "id": "b4e651b0",
   "metadata": {},
   "outputs": [],
   "source": [
    "input_json_search_results = {\n",
    "    \"title\": STATE.paragraphs[0].title,\n",
    "    \"content\": STATE.paragraphs[0].content,\n",
    "    \"search_query\": search_input[\"search_query\"],\n",
    "    \"search_results\": [ result[\"raw_content\"] for result in search_output[\"results\"] if result[\"raw_content\"]]\n",
    "}\n",
    "\n",
    "\n",
    "response = client.chat.completions.create(\n",
    "    model=\"deepseek-reasoner\",\n",
    "    messages=[\n",
    "        {\"role\":\"system\",\"content\":SYSTEM_PROMPT_FIRST_SUMMARY},\n",
    "        {\"role\":\"user\",\"content\":json.dumps(input_json_first_search)}\n",
    "        ],\n",
    "    temperature=1\n",
    "    )\n",
    "\n",
    "paragraph_output = json.loads(response.choices[0].message.content)\n",
    "\n",
    "print(paragraph_output[\"paragraph_latest_state\"])"
   ]
  },
  {
   "cell_type": "markdown",
   "id": "8e334513",
   "metadata": {},
   "source": [
    "### 反思智能体"
   ]
  },
  {
   "cell_type": "code",
   "execution_count": null,
   "id": "d03f4f07",
   "metadata": {},
   "outputs": [],
   "source": [
    "input_json_reflection = {\n",
    "    \"title\": STATE.paragraphs[0].title,\n",
    "    \"content\": STATE.paragraphs[0].content,\n",
    "    \"paragraph_latest_state\": paragraph_output[\"paragraph_latest_state\"]\n",
    "}\n",
    "\n",
    "response = client.chat.completions.create(\n",
    "    model=\"deepseek-reasoner\",\n",
    "    messages=[\n",
    "        {\"role\":\"system\",\"content\":SYSTEM_PROMPT_REFLECTION},\n",
    "        {\"role\":\"user\",\"content\":json.dumps(input_json_reflection)}\n",
    "        ],\n",
    "    temperature=1\n",
    "    )\n",
    "    \n",
    "reflection_output = json.loads(response.choices[0].message.content)\n",
    "\n",
    "print(reflection_output[\"search_query\"])\n"
   ]
  }
 ],
 "metadata": {
  "kernelspec": {
   "display_name": "Python 3",
   "language": "python",
   "name": "python3"
  },
  "language_info": {
   "codemirror_mode": {
    "name": "ipython",
    "version": 3
   },
   "file_extension": ".py",
   "mimetype": "text/x-python",
   "name": "python",
   "nbconvert_exporter": "python",
   "pygments_lexer": "ipython3",
   "version": "3.12.4"
  }
 },
 "nbformat": 4,
 "nbformat_minor": 5
}
