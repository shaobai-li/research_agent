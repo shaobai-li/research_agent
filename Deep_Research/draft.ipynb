{
 "cells": [
  {
   "cell_type": "code",
   "execution_count": null,
   "id": "6897a3ab",
   "metadata": {},
   "outputs": [],
   "source": [
    "import os\n",
    "from dotenv import load_dotenv\n",
    "import openai\n",
    "from dataclasses import dataclass, field\n",
    "from typing import List\n",
    "import json\n",
    "from system_prompts import SYSTEM_PROMPT_FIRST_SEARCH, SYSTEM_PROMPT_FIRST_SUMMARY, SYSTEM_PROMPT_REFLECTION"
   ]
  },
  {
   "cell_type": "markdown",
   "id": "66753838",
   "metadata": {},
   "source": [
    "### 加载环境变量和预定义函数及数据结构"
   ]
  },
  {
   "cell_type": "code",
   "execution_count": 3,
   "id": "29304bf6",
   "metadata": {},
   "outputs": [],
   "source": [
    "load_dotenv()\n",
    "\n",
    "@dataclass\n",
    "class Search:\n",
    "    url: str = \"\"\n",
    "    content: str = \"\"\n",
    "    \n",
    "@dataclass\n",
    "class Research:\n",
    "    search_history: List[Search] = field(default_factory=list)\n",
    "    latest_summary: str = \"\"\n",
    "    reflection_iteration: int = 0\n",
    "\n",
    "@dataclass\n",
    "class Paragraph:\n",
    "    title: str = \"\"\n",
    "    content: str = \"\"\n",
    "    research: Research = field(default_factory=Research)\n",
    "\n",
    "@dataclass\n",
    "class State:\n",
    "    report_title: str = \"\"\n",
    "    paragraphs: List[Paragraph] = field(default_factory=list)\n",
    "\n",
    "\n",
    "def clean_json_tags(json_str):\n",
    "    return json_str.replace(\"```json\", \"\").replace(\"```\", \"\").strip()\n",
    "\n",
    "def update_state_with_search_results(search_results, idx_paragraph, state):\n",
    "\n",
    "    for search_result in search_results[\"results\"]:\n",
    "        search = Search(url=search_result[\"url\"], content=search_result[\"content\"])\n",
    "        state.paragraphs[idx_paragraph].research.search_history.append(search)\n",
    "    return state\n",
    "\n"
   ]
  },
  {
   "cell_type": "markdown",
   "id": "faa26a39",
   "metadata": {},
   "source": [
    "### 初始化状态"
   ]
  },
  {
   "cell_type": "code",
   "execution_count": 4,
   "id": "da54c9c3",
   "metadata": {},
   "outputs": [],
   "source": [
    "STATE = State()"
   ]
  },
  {
   "cell_type": "markdown",
   "id": "1b52cee8",
   "metadata": {},
   "source": [
    "### 报告大纲智能体"
   ]
  },
  {
   "cell_type": "code",
   "execution_count": 5,
   "id": "e43bc053",
   "metadata": {},
   "outputs": [],
   "source": [
    "class ReportStructureAgent:\n",
    "    def __init__(self):\n",
    "        self.llm = openai.OpenAI(api_key=os.getenv(\"OPENAI_API_KEY\"))\n",
    "\n",
    "    def get_system_prompt(self):        \n",
    "        output_schema_report_structure = {\n",
    "                \"type\": \"array\",\n",
    "                \"items\": {\n",
    "                    \"type\": \"object\",\n",
    "                    \"properties\": {\n",
    "                        \"title\": {\"type\": \"string\"},\n",
    "                        \"content\": {\"type\": \"string\"}\n",
    "                    }\n",
    "                }\n",
    "            }\n",
    "\n",
    "        example_output_report_structure = \"\"\"\n",
    "```json\n",
    "[\n",
    "{\n",
    "    \"title\": \"智能体的定义\",\n",
    "    \"content\": \"智能体是具有感知、决策、执行和学习能力的自主系统。\"\n",
    "},\n",
    "{\n",
    "    \"title\": \"智能体的分类\",\n",
    "    \"content\": \"智能体可以分为以下几类：\"\n",
    "}\n",
    "]\n",
    "```\n",
    "\"\"\"\n",
    "\n",
    "        system_prompt = f\"\"\"\n",
    "你是一个深度调研助手。针对一个查询任务，请规划一份报告的结构以及应包含的段落内容。\n",
    "请确保段落的排列顺序合理。\n",
    "结构制定完成后，你将获得工具来分别为每个部分进行网页搜索和反思。\n",
    "请按照以下 JSON 格式定义的格式输出结果：\n",
    "\n",
    "<OUTPUT JSON SCHEMA>\n",
    "{json.dumps(output_schema_report_structure, indent=2)}\n",
    "</OUTPUT JSON SCHEMA>\n",
    "\n",
    "标题（title）和内容（content）属性将用于后续的深入研究。\n",
    "请确保输出是一个符合上述 JSON 格式定义的 JSON 对象。\n",
    "只返回 JSON 对象，不要附加任何解释或额外文本。\n",
    "\n",
    "<EXAMPLE OUTPUT>\n",
    "{example_output_report_structure}\n",
    "</EXAMPLE OUTPUT>\n",
    "\"\"\"\n",
    "\n",
    "        return system_prompt\n",
    "        \n",
    "    def run(self, input):\n",
    "        response = self.llm.chat.completions.create(\n",
    "            model=\"gpt-4o-2024-08-06\",\n",
    "            messages=[\n",
    "                {\"role\": \"system\", \"content\": self.get_system_prompt()},\n",
    "                {\"role\": \"user\", \"content\": input}\n",
    "            ],\n",
    "            stream=False\n",
    "        )\n",
    "\n",
    "        report_structure = json.loads(clean_json_tags(response.choices[0].message.content))\n",
    "\n",
    "        return report_structure"
   ]
  },
  {
   "cell_type": "code",
   "execution_count": 6,
   "id": "2ec04e65",
   "metadata": {},
   "outputs": [
    {
     "name": "stdout",
     "output_type": "stream",
     "text": [
      "报告大纲：\n",
      "第0个段落标题: Web3.0的定义和背景\n",
      "第0个段落内容: 介绍Web3.0的概念及其起源，区分其与Web1.0和Web2.0的差异，强调去中心化和用户自主权的重要性。\n",
      "第1个段落标题: Web3.0的关键技术\n",
      "第1个段落内容: 探讨区块链、智能合约、去中心化应用（DApps）、分布式共识机制等Web3.0的核心技术及其运作方式。\n",
      "第2个段落标题: Web3.0的开发工具和框架\n",
      "第2个段落内容: 列举支持Web3.0开发的主要工具和框架，如Truffle、React、Web3.js等，并说明其功能和使用场景。\n",
      "第3个段落标题: 开发Web3.0应用的流程\n",
      "第3个段落内容: 介绍如何从概念到实现进行Web3.0应用开发的基本流程，包括需求分析、智能合约编写、前后端集成等步骤。\n",
      "第4个段落标题: Web3.0的安全性和隐私\n",
      "第4个段落内容: 分析Web3.0在安全性和隐私保护方面的挑战和对策，探讨常见的安全漏洞及如何防范。\n",
      "第5个段落标题: Web3.0的行业应用场景\n",
      "第5个段落内容: 展示Web3.0技术在金融、供应链、社交媒体、数字身份等行业的应用案例，分析其带来的创新和优势。\n",
      "第6个段落标题: Web3.0开发的挑战与机遇\n",
      "第6个段落内容: 讨论目前Web3.0在开发过程中面临的技术、法律、用户体验等挑战，以及其带来的市场机遇和未来趋势。\n",
      "第7个段落标题: 如何学习和加入Web3.0社区\n",
      "第7个段落内容: 提供学习Web3.0开发的资源和机会，介绍相关的社区、论坛和培训课程，帮助开发者快速上手和深度参与。\n"
     ]
    }
   ],
   "source": [
    "research_structure_agent = ReportStructureAgent()\n",
    "\n",
    "research_input = \"请帮我调研一下web3.0的开发\"\n",
    "\n",
    "report_structure = research_structure_agent.run(research_input)\n",
    "for paragraph in report_structure:\n",
    "    STATE.paragraphs.append(Paragraph(title=paragraph[\"title\"], content=paragraph[\"content\"]))\n",
    "\n",
    "print(\"报告大纲：\")\n",
    "for i, paragraph in enumerate(STATE.paragraphs):\n",
    "    print(f\"第{i}个段落标题: {paragraph.title}\") \n",
    "    print(f\"第{i}个段落内容: {paragraph.content}\")"
   ]
  },
  {
   "cell_type": "markdown",
   "id": "eb81090a",
   "metadata": {},
   "source": [
    "### 搜索智能体"
   ]
  },
  {
   "cell_type": "code",
   "execution_count": 25,
   "id": "97bcb447",
   "metadata": {},
   "outputs": [],
   "source": [
    "import tavily\n",
    "\n",
    "class SearchAgent:\n",
    "    def __init__(self):\n",
    "        self.llm = openai.OpenAI(api_key=os.getenv(\"OPENAI_API_KEY\"))\n",
    "        self.search_tool = tavily.TavilyClient(api_key=os.getenv(\"TAVILY_API_KEY\")\n",
    "    )\n",
    "\n",
    "    def get_system_prompt(self):\n",
    "        \n",
    "\n",
    "        input_schema_first_search = {\n",
    "                    \"type\": \"object\",\n",
    "                    \"properties\": {\n",
    "                        \"title\": {\"type\": \"string\"},\n",
    "                        \"content\": {\"type\": \"string\"}\n",
    "                    }\n",
    "                }\n",
    "\n",
    "        output_schema_first_search = {\n",
    "                    \"type\": \"object\",\n",
    "                    \"properties\": {\n",
    "                        \"search_query\": {\"type\": \"string\"},\n",
    "                        \"reasoning\": {\"type\": \"string\"}\n",
    "                    }\n",
    "                }\n",
    "\n",
    "\n",
    "        system_prompt = f\"\"\"\n",
    "你是一个深度研究助手。你将会被提供一段报告中的段落、它的标题以及期望内容，格式如下的 JSON 格式定义：\n",
    "\n",
    "<INPUT JSON SCHEMA>\n",
    "{json.dumps(input_schema_first_search, indent=2)}\n",
    "</INPUT JSON SCHEMA>\n",
    "\n",
    "你可以使用一个网页搜索工具，该工具接受一个 search_query 作为参数。\n",
    "你的任务是对该主题进行思考，并提供一个最优的网页搜索查询（请使用中文），以丰富你当前的知识。\n",
    "请按照以下的 JSON 格式定义来格式化你的输出：\n",
    "\n",
    "<OUTPUT JSON SCHEMA>\n",
    "{json.dumps(output_schema_first_search, indent=2)}\n",
    "</OUTPUT JSON SCHEMA>\n",
    "\n",
    "请确保你的输出是一个符合上述输出 JSON 架构定义的 JSON 对象。\n",
    "只返回 JSON 对象，不要附加任何解释或其他文本。\n",
    "\"\"\"\n",
    "\n",
    "        return system_prompt\n",
    "\n",
    "    def run(self, input):                \n",
    "        response = self.llm.chat.completions.create(\n",
    "            model=\"gpt-4o-2024-08-06\",\n",
    "            messages=[\n",
    "                {\"role\":\"system\",\"content\":SYSTEM_PROMPT_FIRST_SEARCH},\n",
    "                {\"role\":\"user\",\"content\":json.dumps(input)}\n",
    "                ],\n",
    "            temperature=1\n",
    "            )\n",
    "        \n",
    "        search_arguments = json.loads(clean_json_tags(response.choices[0].message.content))\n",
    "\n",
    "        return search_arguments\n",
    "    \n",
    "    def search(self, search_query, include_raw_content=True, max_results=5):\n",
    "        search_results = self.search_tool.search(\n",
    "                query=search_query,\n",
    "                include_raw_content=include_raw_content,\n",
    "                max_results=max_results\n",
    "                )\n",
    "        return search_results\n"
   ]
  },
  {
   "cell_type": "code",
   "execution_count": null,
   "id": "b43f7967",
   "metadata": {},
   "outputs": [
    {
     "name": "stdout",
     "output_type": "stream",
     "text": [
      "Web3.0 定义 起源 去中心化 用户自主权 Web1.0 Web2.0 区别\n",
      "https://www.cnblogs.com/listen80/p/18304967\n",
      "Web1.0：虽然内容由少数人创建，但平台的中心化程度相对较低。 · Web2.0：高度中心化，平台拥有绝对的控制权和规则制定权。 · Web3.0：去中心化的架构，减少了对\n"
     ]
    }
   ],
   "source": [
    "search_agent = SearchAgent()\n",
    "\n",
    "search_input = {\n",
    "    \"title\": STATE.paragraphs[0].title,\n",
    "    \"content\": STATE.paragraphs[0].content\n",
    "}\n",
    "\n",
    "\n",
    "search_arguments = search_agent.run(search_input)\n",
    "print(search_arguments[\"search_query\"])\n",
    "\n",
    "search_results = search_agent.search(search_arguments[\"search_query\"])\n",
    "\n",
    "STATE = update_state_with_search_results(search_results, 0, STATE)\n",
    "\n",
    "for search in STATE.paragraphs[0].research.search_history:\n",
    "    print(search.url)\n",
    "    print(search.content)\n",
    "    break\n"
   ]
  },
  {
   "cell_type": "code",
   "execution_count": null,
   "id": "aa842078",
   "metadata": {},
   "outputs": [
    {
     "data": {
      "text/plain": [
       "[{'url': 'https://www.cnblogs.com/listen80/p/18304967',\n",
       "  'title': 'Web1.0、Web2.0 和Web3.0 的区别- 彩虹刀法 - 博客园',\n",
       "  'content': 'Web1.0：虽然内容由少数人创建，但平台的中心化程度相对较低。 · Web2.0：高度中心化，平台拥有绝对的控制权和规则制定权。 · Web3.0：去中心化的架构，减少了对',\n",
       "  'score': 0.78154784,\n",
       "  'raw_content': '![](https://img2024.cnblogs.com/blog/35695/202506/35695-20250620221146444-645204917.webp)\\n![博客园logo](//assets.cnblogs.com/logo.svg)\\n![搜索](//assets.cnblogs.com/icons/search.svg)\\n![搜索](//assets.cnblogs.com/icons/enter.svg)\\n![搜索](//assets.cnblogs.com/icons/search.svg)\\n![搜索](//assets.cnblogs.com/icons/search.svg)\\n![写随笔](//assets.cnblogs.com/icons/newpost.svg)\\n![我的博客](//assets.cnblogs.com/icons/myblog.svg)\\n![短消息](//assets.cnblogs.com/icons/message.svg)\\n![简洁模式](//assets.cnblogs.com/icons/lite-mode-on.svg)\\n![用户头像](//assets.cnblogs.com/icons/avatar-default.svg)\\n![返回主页](/skins/custom/images/logo.gif)\\n\\n# [看完会变帅的哦](https://www.cnblogs.com/listen80)\\n\\n## 问题不解决就会越来越大\\n\\n# [Web1.0、Web2.0 和 Web3.0 的区别](https://www.cnblogs.com/listen80/p/18304967 \"发布于 2024-07-16 12:44\")\\n\\n## 背景\\n\\n没有背景，都2024了，发展到什么阶段了\\n\\n## Web1.0、Web2.0 和 Web3.0 的区别主要体现在以下几个关键方面：\\n\\n![image](https://img2024.cnblogs.com/blog/2164376/202407/2164376-20240716131800977-684110263.webp)\\n\\n![image](https://img2024.cnblogs.com/blog/2164376/202407/2164376-20240716131800977-684110263.webp)\\n\\n**内容创作与交互**：\\n\\n**数据所有权和隐私**：\\n\\n**平台中心化程度**：\\n\\n**商业模式**：\\n\\n**应用场景和潜力**：\\n\\nWeb1.0 到 Web3.0 的演进，反映了互联网在技术、用户参与、数据管理和商业模式等方面的不断创新和发展。\\n\\n本文来自博客园，作者：[彩虹刀法](https://www.cnblogs.com/listen80/)，转载请注明原文链接：<https://www.cnblogs.com/listen80/p/18304967>\\n\\n![](https://img2024.cnblogs.com/blog/35695/202506/35695-20250620221033642-784432140.webp)\\n\\n\\n### 公告\\n\\n![](//assets.cnblogs.com/images/ghs.png)'},\n",
       " {'url': 'https://blog.csdn.net/youhebuke225/article/details/127645157',\n",
       "  'title': 'web1.0、web2.0与web3.0_web1.0 也是去中心化吗 - CSDN博客',\n",
       "  'content': 'web3.0与web2.0最大的区别就是web3.0要去中心化 · web3.0时代，数据掌握在自己手中，比如我在抖音发布了一条视频，这个视频推送给谁抖音说了算，某一天，抖音',\n",
       "  'score': 0.7018975,\n",
       "  'raw_content': '# web1.0、web2.0与web3.0\\n\\n![](https://csdnimg.cn/release/blogv2/dist/pc/img/newHeart2023Active.png)\\n![](https://csdnimg.cn/release/blogv2/dist/pc/img/newHeart2023Black.png)\\n![](https://csdnimg.cn/release/blogv2/dist/pc/img/tobarCollect2.png)\\n![](https://csdnimg.cn/release/blogv2/dist/pc/img/tobarCollectionActive2.png)\\n\\n[#web3](https://so.csdn.net/so/search/s.do?q=web3&t=all&o=vip&s=&l=&f=&viparticle=&from_tracking_code=tag_word&from_code=app_blog_art)\\n\\n![](https://i-blog.csdnimg.cn/blog_column_migrate/f9e5dc48891ae58afd67623c027982e4.png?x-oss-process=image/resize,m_fixed,h_224,w_224)\\n![](https://img-home.csdnimg.cn/images/20240711042549.png)\\n\\n摘要生成于\\n [C知道](https://ai.csdn.net?utm_source=cknow_pc_ai_abstract)\\n，由 DeepSeek-R1 满血版支持，\\n [前往体验 >](https://ai.csdn.net?utm_source=cknow_pc_ai_abstract)\\n\\n#### 文章目录\\n\\n专栏目录请[点击](https://blog.csdn.net/youhebuke225/article/details/125255770)\\n\\n## web1.0\\n\\n## web2.0\\n\\n![在这里插入图片描述](https://i-blog.csdnimg.cn/blog_migrate/ed53020c9683490eef0b54c262af3ac7.png)\\n\\n![在这里插入图片描述](https://i-blog.csdnimg.cn/blog_migrate/ed53020c9683490eef0b54c262af3ac7.png)\\n\\n## web3.0\\n\\n## 对比\\n\\n对于用户来说\\n\\nweb1.0为可读  \\n web2.0为 可读 + 可写  \\n web3.0为 可读 + 可写 + 拥有\\n\\n中心化观念\\n\\nweb1.0为 半中心化  \\n web2.0 为中心化  \\n web3.0 为去中心化\\n\\n![](https://csdnimg.cn/release/blogv2/dist/pc/img/vip-limited-close-newWhite.png)\\n\\n![](https://csdnimg.cn/release/blogv2/dist/pc/img/vip-limited-close-roup.png)\\n立减 ¥\\n\\n![](https://csdnimg.cn/release/blogv2/dist/pc/img/vip-limited-close-roup.png)\\n![](https://profile-avatar.csdnimg.cn/261cb81f2d8f47bea92e6dfbc220386f_youhebuke225.jpg!1)\\n![](https://csdnimg.cn/release/blogv2/dist/pc/img/tobarThumbUpactive.png)\\n![](https://csdnimg.cn/release/blogv2/dist/pc/img/toolbar/like-active.png)\\n![](https://csdnimg.cn/release/blogv2/dist/pc/img/toolbar/like.png)\\n![](https://csdnimg.cn/release/blogv2/dist/pc/img/toolbar/unlike-active.png)\\n![](https://csdnimg.cn/release/blogv2/dist/pc/img/toolbar/unlike.png)\\n![](https://csdnimg.cn/release/blogv2/dist/pc/img/toolbar/collect-active.png)\\n![](https://csdnimg.cn/release/blogv2/dist/pc/img/toolbar/collect.png)\\n![](https://csdnimg.cn/release/blogv2/dist/pc/img/newCollectActive.png)\\n![](https://csdnimg.cn/release/blogv2/dist/pc/img/collectionCloseWhite.png)\\n![](https://csdnimg.cn/release/blogv2/dist/pc/img/guideRedReward01.png)\\n![](https://csdnimg.cn/release/blogv2/dist/pc/img/toolbar/comment.png)\\n![](https://csdnimg.cn/release/blogv2/dist/pc/img/toolbar/share.png)\\n![](https://csdnimg.cn/release/blogv2/dist/pc/img/share/icon-wechat.png)\\n![](https://csdnimg.cn/release/blogv2/dist/pc/img/toolbar/more.png)\\n![](https://csdnimg.cn/release/blogv2/dist/pc/img/toolbar/report.png)\\n![](https://csdnimg.cn/release/blogv2/dist/pc/img/toolbar/report.png)\\n![]()\\n![](https://profile-avatar.csdnimg.cn/261cb81f2d8f47bea92e6dfbc220386f_youhebuke225.jpg!1)\\n\\n博客等级\\n![](https://csdnimg.cn/identity/blog7.png)\\n\\n![](https://csdnimg.cn/identity/blog7.png)\\n![](https://i-operation.csdnimg.cn/images/e3a961f682be4fb3818bf5753aad51af.png)\\n![]()\\n\\n### 热门文章\\n\\n![](https://csdnimg.cn/release/blogv2/dist/pc/img/readCountWhite.png)\\n![](https://csdnimg.cn/release/blogv2/dist/pc/img/readCountWhite.png)\\n![](https://csdnimg.cn/release/blogv2/dist/pc/img/readCountWhite.png)\\n![](https://csdnimg.cn/release/blogv2/dist/pc/img/readCountWhite.png)\\n![](https://csdnimg.cn/release/blogv2/dist/pc/img/readCountWhite.png)\\n\\n### 分类专栏\\n\\n![](https://i-blog.csdnimg.cn/columns/default/20201014180756724.png?x-oss-process=image/resize,m_fixed,h_64,w_64)\\n![](https://i-blog.csdnimg.cn/columns/default/20201014180756930.png?x-oss-process=image/resize,m_fixed,h_64,w_64)\\n![](https://i-blog.csdnimg.cn/columns/default/20201014180756923.png?x-oss-process=image/resize,m_fixed,h_64,w_64)\\n![](https://i-blog.csdnimg.cn/columns/default/20201014180756738.png?x-oss-process=image/resize,m_fixed,h_64,w_64)\\n![](https://i-blog.csdnimg.cn/columns/default/20201014180756754.png?x-oss-process=image/resize,m_fixed,h_64,w_64)\\n![](https://i-blog.csdnimg.cn/columns/default/20201014180756919.png?x-oss-process=image/resize,m_fixed,h_64,w_64)\\n![](https://i-blog.csdnimg.cn/columns/default/20201014180756922.png?x-oss-process=image/resize,m_fixed,h_64,w_64)\\n![](https://i-blog.csdnimg.cn/columns/default/20201014180756928.png?x-oss-process=image/resize,m_fixed,h_64,w_64)\\n![](https://i-blog.csdnimg.cn/columns/default/20201014180756928.png?x-oss-process=image/resize,m_fixed,h_64,w_64)\\n![](https://i-blog.csdnimg.cn/columns/default/20201014180756922.png?x-oss-process=image/resize,m_fixed,h_64,w_64)\\n![](https://i-blog.csdnimg.cn/columns/default/20201014180756930.png?x-oss-process=image/resize,m_fixed,h_64,w_64)\\n![](https://i-blog.csdnimg.cn/columns/default/20201014180756927.png?x-oss-process=image/resize,m_fixed,h_64,w_64)\\n![](https://i-blog.csdnimg.cn/blog_column_migrate/f9e5dc48891ae58afd67623c027982e4.png?x-oss-process=image/resize,m_fixed,h_64,w_64)\\n![](https://i-blog.csdnimg.cn/columns/default/20201014180756757.png?x-oss-process=image/resize,m_fixed,h_64,w_64)\\n![](https://i-blog.csdnimg.cn/blog_column_migrate/586dad44b33c654c8f94450ee15b9265.png?x-oss-process=image/resize,m_fixed,h_64,w_64)\\n![](https://i-blog.csdnimg.cn/columns/default/20201014180756913.png?x-oss-process=image/resize,m_fixed,h_64,w_64)\\n![](https://i-blog.csdnimg.cn/columns/default/20201014180756922.png?x-oss-process=image/resize,m_fixed,h_64,w_64)\\n![](https://i-blog.csdnimg.cn/columns/default/20201014180756922.png?x-oss-process=image/resize,m_fixed,h_64,w_64)\\n![](https://i-blog.csdnimg.cn/columns/default/20201014180756918.png?x-oss-process=image/resize,m_fixed,h_64,w_64)\\n![](https://i-blog.csdnimg.cn/columns/default/20201014180756913.png?x-oss-process=image/resize,m_fixed,h_64,w_64)\\n![](https://i-blog.csdnimg.cn/columns/default/20201014180756918.png?x-oss-process=image/resize,m_fixed,h_64,w_64)\\n![](https://i-blog.csdnimg.cn/columns/default/20201014180756928.png?x-oss-process=image/resize,m_fixed,h_64,w_64)\\n![](https://i-blog.csdnimg.cn/columns/default/20201014180756738.png?x-oss-process=image/resize,m_fixed,h_64,w_64)\\n![](https://i-blog.csdnimg.cn/blog_column_migrate/08c8bc4749e40afc586d21825e4a65ab.png?x-oss-process=image/resize,m_fixed,h_64,w_64)\\n![](https://i-blog.csdnimg.cn/blog_column_migrate/2896fc2f69f5194fe21261ad56649db8.png?x-oss-process=image/resize,m_fixed,h_64,w_64)\\n![](https://i-blog.csdnimg.cn/blog_column_migrate/c9e7664acc0954b409c406d6935c4e95.png?x-oss-process=image/resize,m_fixed,h_64,w_64)\\n![](https://i-blog.csdnimg.cn/blog_column_migrate/c80a21fa0241422f7006846d0ccf756e.png?x-oss-process=image/resize,m_fixed,h_64,w_64)\\n![](https://i-blog.csdnimg.cn/blog_column_migrate/cf4306bcd74c78610f6b3eeeed362422.png?x-oss-process=image/resize,m_fixed,h_64,w_64)\\n![](https://i-blog.csdnimg.cn/blog_column_migrate/8dcad3935ce99d589e23c9949ca1d394.png?x-oss-process=image/resize,m_fixed,h_64,w_64)\\n![](https://i-blog.csdnimg.cn/blog_column_migrate/08c8bc4749e40afc586d21825e4a65ab.png?x-oss-process=image/resize,m_fixed,h_64,w_64)\\n![](https://i-blog.csdnimg.cn/columns/default/20201014180756757.png?x-oss-process=image/resize,m_fixed,h_64,w_64)\\n![](https://i-blog.csdnimg.cn/blog_column_migrate/2896fc2f69f5194fe21261ad56649db8.png?x-oss-process=image/resize,m_fixed,h_64,w_64)\\n![](https://i-blog.csdnimg.cn/blog_column_migrate/eb9b4578b75763a886c4c12f2908d628.png?x-oss-process=image/resize,m_fixed,h_64,w_64)\\n![](https://i-blog.csdnimg.cn/columns/default/20201014180756918.png?x-oss-process=image/resize,m_fixed,h_64,w_64)\\n![](https://i-blog.csdnimg.cn/columns/default/20201014180756754.png?x-oss-process=image/resize,m_fixed,h_64,w_64)\\n![](https://i-blog.csdnimg.cn/blog_column_migrate/90a35ae621c65769a9a7d2ace5d65249.png?x-oss-process=image/resize,m_fixed,h_64,w_64)\\n![](https://i-blog.csdnimg.cn/blog_column_migrate/09d0fa4aa134358fcccdc0e54f7319e9.png?x-oss-process=image/resize,m_fixed,h_64,w_64)\\n![](https://i-blog.csdnimg.cn/columns/default/20201014180756919.png?x-oss-process=image/resize,m_fixed,h_64,w_64)\\n![](https://i-blog.csdnimg.cn/columns/default/20201014180756922.png?x-oss-process=image/resize,m_fixed,h_64,w_64)\\n![](https://i-blog.csdnimg.cn/columns/default/20201014180756724.png?x-oss-process=image/resize,m_fixed,h_64,w_64)\\n![](https://i-blog.csdnimg.cn/columns/default/20201014180756930.png?x-oss-process=image/resize,m_fixed,h_64,w_64)\\n![](https://i-blog.csdnimg.cn/columns/default/20201014180756925.png?x-oss-process=image/resize,m_fixed,h_64,w_64)\\n![](https://i-blog.csdnimg.cn/columns/default/20201014180756916.png?x-oss-process=image/resize,m_fixed,h_64,w_64)\\n![](https://i-blog.csdnimg.cn/columns/default/20201014180756927.png?x-oss-process=image/resize,m_fixed,h_64,w_64)\\n\\n展开全部 ![](https://csdnimg.cn/release/blogv2/dist/pc/img/arrowup-line-bot-White.png)\\n收起 ![](https://csdnimg.cn/release/blogv2/dist/pc/img/arrowup-line-top-White.png)\\n\\n![](https://csdnimg.cn/release/blogv2/dist/pc/img/arrowup-line-bot-White.png)\\n![](https://csdnimg.cn/release/blogv2/dist/pc/img/arrowup-line-top-White.png)\\n\\n### 最新评论\\n\\n[CSDN-Ada助手:](https://blog.csdn.net/community_717) \\n恭喜你这篇博客进入【CSDN每天值得看】榜单，全部的排名请看 https://bbs.csdn.net/topics/619693497。\\n\\n[北风之神c:](https://blog.csdn.net/m0_38056101) \\n总结的很全面的日志使用，写得赞，博主用心了。\\n此国产日志 https://nb-log-doc.readthedocs.io/zh-cn/latest/articles/c1.html 使用原生 loggng封装，兼容性和替换性100%,只需要一行代码大幅简化logging的使用。\\n1、日志能根据级别能够自动变彩色。\\n2、print自动变彩色。\\n3、日志和print在pycahrm控制台的输出都自动可以点击跳转到文件和行号。\\n4、多进程日志切割安全，文件日志写入性能高 。\\n5、入参简单，能一键自动记录到多种地方。\\n6、 nb\\\\_log 兼容包含loguru色彩模式,loguru只是nb\\\\_log的子集之一.\\n相比 loguru 有10胜。\\npip install nb\\\\_log 。\\n\\n[北风之神c:](https://blog.csdn.net/m0_38056101) \\n总结的很全面，写得赞，博主用心了。\\ncelery对目录层级文件名称格式要求太高，只适合规划新的项目，对不规则文件夹套用难度高。\\n所以新手使用celery很仔细的建立文件夹名字、文件夹层级、python文件名字。\\n所以网上的celery博客教程虽然很多，但是并不能学会使用，因为要运行起来需要以下6个方面都掌握好，博客文字很难表达清楚或者没有写全面以下6个方面。\\ncelery消费任务不执行或者报错NotRegistered，与很多方面有关系，如果要别人排错，至少要发以下6方面的截图，因为与一下6点关系很大。\\n1)整个项目目录结构, 2）@task入参 ,3）celery的配置，4）celery的配置 include ,5）cmd命令行启动参数 --queues= 的值,6）用户在启动cmd命令行时候，用户所在的文件夹。\\n在不规范的文件夹路径下，使用celery难度很高，一般教程都没教。\\n[项目文件夹目录格式不规范下的celery使用演示](https://github.com/ydf0509/celery\\\\_demo) 。\\n此国产分布式函数调度框架 funboost python万能通用函数加速器 https://funboost.readthedocs.io/zh-cn/latest/articles/c1.html ，\\n从用法调用难度，用户所需代码量，超高并发性能，qps控频精确程度，支持的中间件类型，任务控制方式，稳定程度等20个方面全方位超过celery。发布性能提高1000%，消费性能提高2000%。\\npython万能分布式函数调度框架funboost支持python所有类型的并发模式和一切知名消息队列中间件，python函数加速器，只需要一行代码调度任意函数，框架包罗万象,万能编程功能宝典，一统编程思维，与业务不绑定，适用范围广。\\npip install funboost\\n\\n[北风之神c:](https://blog.csdn.net/m0_38056101) \\n总结的很全面，写得赞，博主用心了。\\ncelery对目录层级文件名称格式要求太高，只适合规划新的项目，对不规则文件夹套用难度高。\\n所以新手使用celery很仔细的建立文件夹名字、文件夹层级、python文件名字。\\n所以网上的celery博客教程虽然很多，但是并不能学会使用，因为要运行起来需要以下6个方面都掌握好，博客文字很难表达清楚或者没有写全面以下6个方面。\\ncelery消费任务不执行或者报错NotRegistered，与很多方面有关系，如果要别人排错，至少要发以下6方面的截图，因为与一下6点关系很大。\\n1)整个项目目录结构, 2）@task入参 ,3）celery的配置，4）celery的配置 include ,5）cmd命令行启动参数 --queues= 的值,6）用户在启动cmd命令行时候，用户所在的文件夹。\\n在不规范的文件夹路径下，使用celery难度很高，一般教程都没教。\\n[项目文件夹目录格式不规范下的celery使用演示](https://github.com/ydf0509/celery\\\\_demo) 。\\n此国产分布式函数调度框架 funboost python万能通用函数加速器 https://funboost.readthedocs.io/zh-cn/latest/articles/c1.html ，\\n从用法调用难度，用户所需代码量，超高并发性能，qps控频精确程度，支持的中间件类型，任务控制方式，稳定程度等20个方面全方位超过celery。发布性能提高1000%，消费性能提高2000%。\\npython万能分布式函数调度框架funboost支持python所有类型的并发模式和一切知名消息队列中间件，python函数加速器，只需要一行代码调度任意函数，框架包罗万象,万能编程功能宝典，一统编程思维，与业务不绑定，适用范围广。\\npip install funboost\\n\\n[北风之神c:](https://blog.csdn.net/m0_38056101) \\n总结的很全面，写得赞，博主用心了。\\ncelery对目录层级文件名称格式要求太高，只适合规划新的项目，对不规则文件夹套用难度高。\\n所以新手使用celery很仔细的建立文件夹名字、文件夹层级、python文件名字。\\n所以网上的celery博客教程虽然很多，但是并不能学会使用，因为要运行起来需要以下6个方面都掌握好，博客文字很难表达清楚或者没有写全面以下6个方面。\\ncelery消费任务不执行或者报错NotRegistered，与很多方面有关系，如果要别人排错，至少要发以下6方面的截图，因为与一下6点关系很大。\\n1)整个项目目录结构, 2）@task入参 ,3）celery的配置，4）celery的配置 include ,5）cmd命令行启动参数 --queues= 的值,6）用户在启动cmd命令行时候，用户所在的文件夹。\\n在不规范的文件夹路径下，使用celery难度很高，一般教程都没教。\\n[项目文件夹目录格式不规范下的celery使用演示](https://github.com/ydf0509/celery\\\\_demo) 。\\n此国产分布式函数调度框架 funboost python万能通用函数加速器 https://funboost.readthedocs.io/zh-cn/latest/articles/c1.html ，\\n从用法调用难度，用户所需代码量，超高并发性能，qps控频精确程度，支持的中间件类型，任务控制方式，稳定程度等20个方面全方位超过celery。发布性能提高1000%，消费性能提高2000%。\\npython万能分布式函数调度框架funboost支持python所有类型的并发模式和一切知名消息队列中间件，python函数加速器，只需要一行代码调度任意函数，框架包罗万象,万能编程功能宝典，一统编程思维，与业务不绑定，适用范围广。\\npip install funboost\\n\\n### 大家在看\\n\\n![](https://csdnimg.cn/release/blogv2/dist/pc/img/readCountWhite.png)\\n![](https://csdnimg.cn/release/blogv2/dist/pc/img/readCountWhite.png)\\n![](https://csdnimg.cn/release/blogv2/dist/pc/img/readCountWhite.png)\\n![](https://csdnimg.cn/release/blogv2/dist/pc/img/readCountWhite.png)\\n\\n### 最新文章\\n\\n![]()\\n\\n### 目录\\n\\n展开全部 ![](https://csdnimg.cn/release/blogv2/dist/pc/img/arrowup-line-bot-White.png)\\n\\n![](https://csdnimg.cn/release/blogv2/dist/pc/img/arrowup-line-bot-White.png)\\n\\n收起 ![](https://csdnimg.cn/release/blogv2/dist/pc/img/arrowup-line-top-White.png)\\n\\n![](https://csdnimg.cn/release/blogv2/dist/pc/img/arrowup-line-top-White.png)\\n![]()\\n\\n### 目录\\n\\n展开全部 ![](https://csdnimg.cn/release/blogv2/dist/pc/img/arrowup-line-bot-White.png)\\n\\n![](https://csdnimg.cn/release/blogv2/dist/pc/img/arrowup-line-bot-White.png)\\n\\n收起 ![](https://csdnimg.cn/release/blogv2/dist/pc/img/arrowup-line-top-White.png)\\n\\n![](https://csdnimg.cn/release/blogv2/dist/pc/img/arrowup-line-top-White.png)\\n![]()\\n\\n### 分类专栏\\n\\n![](https://i-blog.csdnimg.cn/columns/default/20201014180756724.png?x-oss-process=image/resize,m_fixed,h_64,w_64)\\n![](https://i-blog.csdnimg.cn/columns/default/20201014180756930.png?x-oss-process=image/resize,m_fixed,h_64,w_64)\\n![](https://i-blog.csdnimg.cn/columns/default/20201014180756923.png?x-oss-process=image/resize,m_fixed,h_64,w_64)\\n![](https://i-blog.csdnimg.cn/columns/default/20201014180756738.png?x-oss-process=image/resize,m_fixed,h_64,w_64)\\n![](https://i-blog.csdnimg.cn/columns/default/20201014180756754.png?x-oss-process=image/resize,m_fixed,h_64,w_64)\\n![](https://i-blog.csdnimg.cn/columns/default/20201014180756919.png?x-oss-process=image/resize,m_fixed,h_64,w_64)\\n![](https://i-blog.csdnimg.cn/columns/default/20201014180756922.png?x-oss-process=image/resize,m_fixed,h_64,w_64)\\n![](https://i-blog.csdnimg.cn/columns/default/20201014180756928.png?x-oss-process=image/resize,m_fixed,h_64,w_64)\\n![](https://i-blog.csdnimg.cn/columns/default/20201014180756928.png?x-oss-process=image/resize,m_fixed,h_64,w_64)\\n![](https://i-blog.csdnimg.cn/columns/default/20201014180756922.png?x-oss-process=image/resize,m_fixed,h_64,w_64)\\n![](https://i-blog.csdnimg.cn/columns/default/20201014180756930.png?x-oss-process=image/resize,m_fixed,h_64,w_64)\\n![](https://i-blog.csdnimg.cn/columns/default/20201014180756927.png?x-oss-process=image/resize,m_fixed,h_64,w_64)\\n![](https://i-blog.csdnimg.cn/blog_column_migrate/f9e5dc48891ae58afd67623c027982e4.png?x-oss-process=image/resize,m_fixed,h_64,w_64)\\n![](https://i-blog.csdnimg.cn/columns/default/20201014180756757.png?x-oss-process=image/resize,m_fixed,h_64,w_64)\\n![](https://i-blog.csdnimg.cn/blog_column_migrate/586dad44b33c654c8f94450ee15b9265.png?x-oss-process=image/resize,m_fixed,h_64,w_64)\\n![](https://i-blog.csdnimg.cn/columns/default/20201014180756913.png?x-oss-process=image/resize,m_fixed,h_64,w_64)\\n![](https://i-blog.csdnimg.cn/columns/default/20201014180756922.png?x-oss-process=image/resize,m_fixed,h_64,w_64)\\n![](https://i-blog.csdnimg.cn/columns/default/20201014180756922.png?x-oss-process=image/resize,m_fixed,h_64,w_64)\\n![](https://i-blog.csdnimg.cn/columns/default/20201014180756918.png?x-oss-process=image/resize,m_fixed,h_64,w_64)\\n![](https://i-blog.csdnimg.cn/columns/default/20201014180756913.png?x-oss-process=image/resize,m_fixed,h_64,w_64)\\n![](https://i-blog.csdnimg.cn/columns/default/20201014180756918.png?x-oss-process=image/resize,m_fixed,h_64,w_64)\\n![](https://i-blog.csdnimg.cn/columns/default/20201014180756928.png?x-oss-process=image/resize,m_fixed,h_64,w_64)\\n![](https://i-blog.csdnimg.cn/columns/default/20201014180756738.png?x-oss-process=image/resize,m_fixed,h_64,w_64)\\n![](https://i-blog.csdnimg.cn/blog_column_migrate/08c8bc4749e40afc586d21825e4a65ab.png?x-oss-process=image/resize,m_fixed,h_64,w_64)\\n![](https://i-blog.csdnimg.cn/blog_column_migrate/2896fc2f69f5194fe21261ad56649db8.png?x-oss-process=image/resize,m_fixed,h_64,w_64)\\n![](https://i-blog.csdnimg.cn/blog_column_migrate/c9e7664acc0954b409c406d6935c4e95.png?x-oss-process=image/resize,m_fixed,h_64,w_64)\\n![](https://i-blog.csdnimg.cn/blog_column_migrate/c80a21fa0241422f7006846d0ccf756e.png?x-oss-process=image/resize,m_fixed,h_64,w_64)\\n![](https://i-blog.csdnimg.cn/blog_column_migrate/cf4306bcd74c78610f6b3eeeed362422.png?x-oss-process=image/resize,m_fixed,h_64,w_64)\\n![](https://i-blog.csdnimg.cn/blog_column_migrate/8dcad3935ce99d589e23c9949ca1d394.png?x-oss-process=image/resize,m_fixed,h_64,w_64)\\n![](https://i-blog.csdnimg.cn/blog_column_migrate/08c8bc4749e40afc586d21825e4a65ab.png?x-oss-process=image/resize,m_fixed,h_64,w_64)\\n![](https://i-blog.csdnimg.cn/columns/default/20201014180756757.png?x-oss-process=image/resize,m_fixed,h_64,w_64)\\n![](https://i-blog.csdnimg.cn/blog_column_migrate/2896fc2f69f5194fe21261ad56649db8.png?x-oss-process=image/resize,m_fixed,h_64,w_64)\\n![](https://i-blog.csdnimg.cn/blog_column_migrate/eb9b4578b75763a886c4c12f2908d628.png?x-oss-process=image/resize,m_fixed,h_64,w_64)\\n![](https://i-blog.csdnimg.cn/columns/default/20201014180756918.png?x-oss-process=image/resize,m_fixed,h_64,w_64)\\n![](https://i-blog.csdnimg.cn/columns/default/20201014180756754.png?x-oss-process=image/resize,m_fixed,h_64,w_64)\\n![](https://i-blog.csdnimg.cn/blog_column_migrate/90a35ae621c65769a9a7d2ace5d65249.png?x-oss-process=image/resize,m_fixed,h_64,w_64)\\n![](https://i-blog.csdnimg.cn/blog_column_migrate/09d0fa4aa134358fcccdc0e54f7319e9.png?x-oss-process=image/resize,m_fixed,h_64,w_64)\\n![](https://i-blog.csdnimg.cn/columns/default/20201014180756919.png?x-oss-process=image/resize,m_fixed,h_64,w_64)\\n![](https://i-blog.csdnimg.cn/columns/default/20201014180756922.png?x-oss-process=image/resize,m_fixed,h_64,w_64)\\n![](https://i-blog.csdnimg.cn/columns/default/20201014180756724.png?x-oss-process=image/resize,m_fixed,h_64,w_64)\\n![](https://i-blog.csdnimg.cn/columns/default/20201014180756930.png?x-oss-process=image/resize,m_fixed,h_64,w_64)\\n![](https://i-blog.csdnimg.cn/columns/default/20201014180756925.png?x-oss-process=image/resize,m_fixed,h_64,w_64)\\n![](https://i-blog.csdnimg.cn/columns/default/20201014180756916.png?x-oss-process=image/resize,m_fixed,h_64,w_64)\\n![](https://i-blog.csdnimg.cn/columns/default/20201014180756927.png?x-oss-process=image/resize,m_fixed,h_64,w_64)\\n\\n展开全部 ![](https://csdnimg.cn/release/blogv2/dist/pc/img/arrowup-line-bot-White.png)\\n收起 ![](https://csdnimg.cn/release/blogv2/dist/pc/img/arrowup-line-top-White.png)\\n\\n![](https://csdnimg.cn/release/blogv2/dist/pc/img/arrowup-line-bot-White.png)\\n![](https://csdnimg.cn/release/blogv2/dist/pc/img/arrowup-line-top-White.png)\\n\\n### 目录\\n\\n![](https://csdnimg.cn/release/blogv2/dist/pc/img/closeBt.png)\\n![](https://csdnimg.cn/release/blogv2/dist/pc/img/commentArrowLeftWhite.png)\\n![](https://csdnimg.cn/release/blogv2/dist/pc/img/iconPark.png)\\n![](https://csdnimg.cn/release/blogv2/dist/pc/img/commentArrowDownWhite.png)\\n\\n请填写红包祝福语或标题\\n\\n红包个数最小为10个\\n\\n红包金额最低5元\\n\\n![](https://csdnimg.cn/release/blogv2/dist/pc/img/guideRedReward02.png)\\n![](https://csdnimg.cn/release/blogv2/dist/pc/img/guideRedReward03.png)\\n![]()\\n\\n成就一亿技术人!\\n\\n![](https://profile-avatar.csdnimg.cn/default.jpg!2)\\n![](https://csdnimg.cn/release/blogv2/dist/pc/img/pay-time-out.png)\\n![](https://csdnimg.cn/release/blogv2/dist/pc/img/weixin.png)\\n![](https://csdnimg.cn/release/blogv2/dist/pc/img/zhifubao.png)\\n![](https://csdnimg.cn/release/blogv2/dist/pc/img/jingdong.png)\\n![](https://csdnimg.cn/release/blogv2/dist/pc/img/pay-help.png)\\n\\n抵扣说明：\\n\\n1.余额是钱包充值的虚拟货币，按照1:1的比例进行支付金额的抵扣。  \\n 2.余额无法直接购买下载，可以购买VIP、付费专栏及课程。\\n\\n![](https://csdnimg.cn/release/blogv2/dist/pc/img/recharge.png)\\n![]()'},\n",
       " {'url': 'https://www.mad-men.com/articldetails/27428',\n",
       "  'title': '转型Web3.0 改写营销与商业 - 广告狂人',\n",
       "  'content': '有Web 3.0，就有Web 1.0 和Web2.0。业内戏称Web1 是一个只读网络， Web2 是一个读写网络，而Web3 承诺的是，提供一个无中介的读写网络，即一个去中心化的互联网。',\n",
       "  'score': 0.6450534,\n",
       "  'raw_content': None},\n",
       " {'url': 'https://brave.com/zh/web3/versus-web1-and-web2/',\n",
       "  'title': 'Web3 与Web 1.0 和Web 2.0 - Brave',\n",
       "  'content': 'Web3 的差异之处 ... Web3 采用Web 2.0 的“社交”模式，并更改了其底层结构，使其更加公平、公开和去中心化。Web3 只是一种新的基础设施，一种构建您已经习惯的',\n",
       "  'score': 0.61307496,\n",
       "  'raw_content': '![](https://analytics.brave.com/piwik.php?idsite=2&rec=1)![Brave Software home](/static-assets/images/brave-logo-sans-text.svg)\\n\\né\\x9a\\x90ç§\\x81ä¿\\x9dæ\\x8a¤ã\\x80\\x81æ\\x89©å±\\x95å\\x8a\\x9fè\\x83½ï¼\\x8cæ\\x98¯æ¯\\x8fä¸ªå¹³å\\x8f°ç\\x9a\\x84æ\\x9c\\x80ä½³é\\x80\\x89æ\\x8b©ã\\x80\\x82\\n\\nå\\x8a\\xa0å¯\\x86è´§å¸\\x81ã\\x80\\x81NFT å\\x92\\x8cå\\x8cºå\\x9d\\x97é\\x93¾ç\\x9a\\x84ä¸\\x80å\\x88\\x87ã\\x80\\x82å\\xad¦ä¹\\xa0 Web3 ç\\x9a\\x84å\\x9fºç¡\\x80ç\\x9f¥è¯\\x86ã\\x80\\x82\\n\\nä»¥ç®\\x80ç\\x9f\\xadã\\x80\\x81é\\x80\\x9aä¿\\x97ç\\x9a\\x84è¯\\xadè¨\\x80ä»\\x8bç»\\x8då¸¸è§\\x81ç\\x9a\\x84äº\\x92è\\x81\\x94ç½\\x91å\\x92\\x8cè®¡ç®\\x97æ\\x9cºæ\\x9c¯è¯\\xadã\\x80\\x82\\n\\næ\\x9f¥ç\\x9c\\x8b Brave ä¸\\x8eå\\x85¶ä»\\x96æµ\\x8fè§\\x88å\\x99¨å\\x92\\x8cæ\\x90\\x9cç´¢å¼\\x95æ\\x93\\x8eç\\x9a\\x84å¯¹æ¯\\x94æ\\x83\\x85å\\x86µã\\x80\\x82\\n\\né\\x9d¢å\\x90\\x91ç\\x94¨æ\\x88·å\\x92\\x8cå¼\\x80å\\x8f\\x91äººå\\x91\\x98ç\\x9a\\x84 LLMã\\x80\\x81æ\\x9cºå\\x99¨å\\xad¦ä¹\\xa0å\\x92\\x8cäººå·¥æ\\x99ºè\\x83½å\\x9fºç¡\\x80ã\\x80\\x82\\n\\n# Web3 ä¸\\x8e Web 1.0 å\\x92\\x8c Web 2.0\\n\\nå·²å\\x8f\\x91å¸\\x83 9æ\\x9c\\x88 6, 2022\\n\\n![](/static-assets/icons/icon-arrow-left.svg)\\n\\nWeb3 æ\\x98¯äº\\x92è\\x81\\x94ç½\\x91ç\\x9a\\x84å\\x8e»ä¸\\xadå¿\\x83å\\x8c\\x96ç\\x89\\x88æ\\x9c¬ã\\x80\\x82å®\\x83æ\\x9e\\x84å»ºå\\x9c¨å\\x8cºå\\x9d\\x97é\\x93¾å\\x92\\x8cå\\x8a\\xa0å¯\\x86ç\\xad\\x89å°\\x96ç«¯æ\\x8a\\x80æ\\x9c¯ä¹\\x8bä¸\\x8aï¼\\x8cä½\\x86è¿\\x99å\\x8fªæ\\x98¯æ\\x8a\\x80æ\\x9c¯æ\\x96¹é\\x9d¢ã\\x80\\x82ä»\\x8eæ\\xa0¹æ\\x9c¬ä¸\\x8aè\\x80\\x8cè¨\\x80ï¼\\x8cWeb3 æ\\x98¯ä¸\\x80å\\x9cºä»¥æ\\x9c\\x9dç\\x9d\\x80æ\\x9b´å\\x85¬å¹³ç\\x9a\\x84äº\\x92è\\x81\\x94ç½\\x91å\\x8f\\x91å±\\x95ç\\x9a\\x84è¿\\x90å\\x8a¨ï¼\\x8cå®\\x83è®©ç\\x94¨æ\\x88·è\\x83½å¤\\x9fæ\\x8e§å\\x88¶è\\x87ªå·±ç\\x9a\\x84æ\\x95°æ\\x8d®ã\\x80\\x82å®\\x83æ¶\\x89å\\x8f\\x8aä»\\x8eå¤§å\\x9e\\x8bç§\\x91æ\\x8a\\x80å\\x85¬å\\x8f¸æ\\x89\\x8bä¸\\xadå¤ºå\\x9b\\x9eæ\\x8e§å\\x88¶æ\\x9d\\x83ï¼\\x8cå¹¶å°\\x86å\\x85¶äº¤å\\x88°ç\\x8e°å®\\x9eä¸\\x96ç\\x95\\x8cç\\x9a\\x84äººæ\\x89\\x8bä¸\\xadã\\x80\\x82\\n\\nä½\\x86å\\x9c¨æ\\x88\\x91ä»¬æ·±å\\x85¥ç\\xa0\\x94ç©¶ä¹\\x8bå\\x89\\x8dï¼\\x8cè®©æ\\x88\\x91ä»¬å\\x85\\x88æ\\x9d¥äº\\x86è§£ä¸\\x80ä¸\\x8bäº\\x92è\\x81\\x94ç½\\x91ç\\x9a\\x84å\\x8f\\x91å±\\x95å\\x8e\\x86ç¨\\x8bâ\\x80\\x94å\\x9b\\xa0ä¸ºäº\\x86è§£ Web3 ç\\x9a\\x84æ\\x9c\\x80ä½³æ\\x96¹å¼\\x8fæ\\x98¯äº\\x86è§£å\\x85¶å\\x8f\\x91å±\\x95å\\x8e\\x86ç¨\\x8bã\\x80\\x82\\n\\n*è¯»è\\x80\\x85æ³¨ï¼\\x9aç\\x9b¸æ¯\\x94äº\\x8eæ\\x8a\\x80æ\\x9c¯æ\\x80§è\\x80\\x8cè¨\\x80ï¼\\x8cWeb å\\x90\\x84ç§\\x8dâ\\x80\\x9cç\\x89\\x88æ\\x9c¬â\\x80\\x9dä¹\\x8bé\\x97´ç\\x9a\\x84å\\x88\\x92å\\x88\\x86æ\\x9b´å\\x85·æ\\x8f\\x8fè¿°æ\\x80§ã\\x80\\x82å\\x87\\xa0å\\x8d\\x81å¹´æ\\x9d¥ï¼\\x8cäº\\x92è\\x81\\x94ç½\\x91ç\\x9a\\x84è¿\\x90ä½\\x9cæ\\x9cºå\\x88¶å¤§è\\x87´ç\\x9b¸å\\x90\\x8cã\\x80\\x82æ\\x88\\x91ä»¬å\\x88\\x9aå\\x88\\x9aæ\\x8f\\x90å\\x87ºäº\\x86å\\x9c¨å\\x85¶ä¸\\x8aè¿\\x9bè¡\\x8cæ\\x9e\\x84å»ºå¹¶ä¸\\x8eä¹\\x8bäº¤äº\\x92ç\\x9a\\x84æ\\x96°æ\\x96¹å¼\\x8fã\\x80\\x82å¦\\x82ä»\\x8aï¼\\x8cå¼\\x80å\\x8f\\x91äººå\\x91\\x98å\\x8f¯ä»¥ä½¿ç\\x94¨ Web 1.0ã\\x80\\x81Web 2.0 æ\\x88\\x96 Web3 æ\\xa0\\x87å\\x87\\x86æ\\x9e\\x84å»ºç½\\x91ç«\\x99ã\\x80\\x82æ\\x96°ç\\x89\\x88æ\\x9c¬å¹¶ä¸\\x8dæ\\x84\\x8få\\x91³ç\\x9d\\x80æ\\x97§ç\\x9a\\x84è¡\\x8cäº\\x8bæ\\x96¹å¼\\x8fæ¶\\x88äº¡ã\\x80\\x82è¿\\x99å\\x8fªæ\\x98¯æ\\x84\\x8få\\x91³ç\\x9d\\x80æ\\x9c\\x89ä¸\\x80å¥\\x97æ\\x96°ç\\x9a\\x84 Web æ\\xa0\\x87å\\x87\\x86å\\x8f\\x98å¾\\x97æ\\x9b´å\\x8f\\x97æ¬¢è¿\\x8eã\\x80\\x81æ\\x9b´å¸¸ç\\x94¨ã\\x80\\x82*\\n\\n## Web 1.0\\n\\nWeb 1.0 æ\\x98¯äººä»¬æ\\x97¥å¸¸å\\x8f¯ä»¥å®\\x9eé\\x99\\x85ä½¿ç\\x94¨ç\\x9a\\x84æ\\x9c\\x80æ\\x97©ç\\x9a\\x84äº\\x92è\\x81\\x94ç½\\x91ç\\x89\\x88æ\\x9c¬ã\\x80\\x82å®\\x83å§\\x8bäº\\x8e 1989 å¹´å·¦å\\x8f³ï¼\\x8cå½\\x93æ\\x97¶ç\\x9b\\x9bè¡\\x8cæ\\x8b¨å\\x8f·è¿\\x9eæ\\x8e¥å\\x92\\x8cç¬¨é\\x87\\x8dç\\x9a\\x84å\\x8f°å¼\\x8fè®¡ç®\\x97æ\\x9cºã\\x80\\x82å½\\x93æ\\x97¶å®\\x83è¢«ç§°ä¸ºâ\\x80\\x9cä¸\\x87ç»´ç½\\x91â\\x80\\x9dã\\x80\\x82\\n\\nWeb 1.0 å±\\x9eäº\\x8eäº\\x92è\\x81\\x94ç½\\x91ç\\x9a\\x84å\\x8f\\x91å±\\x95æ\\x97©æ\\x9c\\x9fï¼\\x8cä¸\\x80ç\\x9b´å\\x8f\\x91å±\\x95è\\x87³ 2005 å¹´å·¦å\\x8f³ã\\x80\\x82å®\\x83ç\\x94±é\\x9d\\x99æ\\x80\\x81å\\x86\\x85å®¹ï¼\\x88è\\x80\\x8cä¸\\x8dæ\\x98¯å\\x8a¨æ\\x80\\x81 HTMLï¼\\x89æ\\xa0\\x87è®°ï¼\\x8cæ\\x95°æ\\x8d®å\\x92\\x8cå\\x86\\x85å®¹æ\\x9d¥è\\x87ªé\\x9d\\x99æ\\x80\\x81æ\\x96\\x87ä»¶ï¼\\x88è\\x80\\x8cä¸\\x8dæ\\x98¯æ\\x95°æ\\x8d®åº\\x93ï¼\\x89ã\\x80\\x82å\\x9c¨ Web 1.0 ä¸\\xadï¼\\x8cç½\\x91ç«\\x99æ²¡æ\\x9c\\x89å¤ªå¤\\x9aç\\x9a\\x84äº¤äº\\x92æ\\x80§ã\\x80\\x82æ\\x82¨å\\x8f¯ä»¥é\\x98\\x85è¯»å\\x85¶ä»\\x96äººå\\x8f\\x91è¡¨ç\\x9a\\x84å\\x86\\x85å®¹ï¼\\x8cä½\\x86ä»\\x85æ\\xad¤è\\x80\\x8cå·²ã\\x80\\x82å\\x9fºæ\\x9c¬ä¸\\x8aå®\\x83å°±å\\x83\\x8fæ\\x95°å\\xad\\x97æ\\x9d\\x82å¿\\x97å\\x92\\x8cæ\\x8a¥çº¸ï¼\\x8cä½\\x86å\\x85³é\\x97\\xadäº\\x86è¯\\x84è®ºè·\\x9få¸\\x96ã\\x80\\x82å\\x85¶ä¸\\xadæ²¡æ\\x9c\\x89å¤ªå¤\\x9aç\\x9a\\x84ç¤¾äº¤åª\\x92ä½\\x93ï¼\\x8cé\\x99¤äº\\x86æ\\x97©æ\\x9c\\x9fç\\x9a\\x84å\\x8d\\x9aå®¢ï¼\\x8cäººä»¬æ\\x97\\xa0æ³\\x95å\\x88\\x9bå»ºæ\\x88\\x96å\\x8f\\x91å¸\\x83è\\x87ªå·±ç\\x9a\\x84å\\x86\\x85å®¹ã\\x80\\x82\\n\\nç\\x94±äº\\x8eç¼ºä¹\\x8fäº¤äº\\x92æ\\x80§ï¼\\x8cWeb 1.0 è¢«ç§°ä¸ºâ\\x80\\x9cå\\x8fªè¯»â\\x80\\x9dWebã\\x80\\x82\\n\\n### Web 1.0 ä¸\\x8aç\\x9a\\x84ç¬¬ä¸\\x80æ\\x89¹ç½\\x91ç«\\x99\\n\\næ\\x97©æ\\x9c\\x9f Web ç\\x9a\\x84ä¸»è¦\\x81ç\\x94¨ä¾\\x8bæ\\x98¯å\\x9c¨ä¸\\x96ç\\x95\\x8cå\\x90\\x84å\\x9c°ç\\x9a\\x84ä¸\\x8då\\x90\\x8cç\\xa0\\x94ç©¶ç»\\x84ç»\\x87ä¹\\x8bé\\x97´å\\x88\\x86äº«æ\\x95°æ\\x8d®ï¼\\x88ä¸»è¦\\x81æ\\x98¯ç§\\x91å\\xad¦æ\\x95°æ\\x8d®ï¼\\x89ã\\x80\\x82å\\xad\\x98å\\x9c¨ç\\x9a\\x84ç¬¬ä¸\\x80ä¸ªç\\x9b¸åº\\x94ç½\\x91ç«\\x99å½\\x92æ¬§æ´²æ\\xa0¸ç\\xa0\\x94ç©¶ä¸\\xadå¿\\x83 (CERN) æ\\x89\\x80æ\\x9c\\x89ï¼\\x8cé\\x9a\\x8få\\x90\\x8eç\\x9a\\x84è®¸å¤\\x9aç½\\x91ç«\\x99å½\\x92å¤§å\\xad¦å\\x92\\x8cç\\xa0\\x94ç©¶æ\\x9cºæ\\x9e\\x84æ\\x89\\x80æ\\x9c\\x89ã\\x80\\x82æ\\x97©æ\\x9c\\x9fç\\x9a\\x84 Web æ\\x9c¬è´¨ä¸\\x8aæ\\x98¯ç\\x94±ç§\\x91å\\xad¦å®¶å\\x92\\x8cç\\xa0\\x94ç©¶äººå\\x91\\x98ç»\\x84æ\\x88\\x90ç\\x9a\\x84ä¸\\x80ä¸ªå¤§ç½\\x91ç»\\x9cã\\x80\\x82\\n\\nå\\x88° 1993 å¹´ä¸\\xadï¼\\x8cWeb ä»\\x85ç\\x94± 100 å¤\\x9aä¸ªç½\\x91ç«\\x99ç»\\x84æ\\x88\\x90ã\\x80\\x82é\\x9a\\x8få\\x90\\x8eï¼\\x8cå\\x90\\x84ç§\\x8däº\\x8bç\\x89©è¿\\x85ç\\x8c\\x9bå\\x8f\\x91å±\\x95ã\\x80\\x82å\\x88° 1993 å¹´åº\\x95ï¼\\x8cå·²æ\\x9c\\x89 600 å¤\\x9aä¸ªç½\\x91ç«\\x99ã\\x80\\x82å\\x88° 1994 å¹´åº\\x95ï¼\\x8cå·²æ\\x9c\\x89 10,000 å¤\\x9aä¸ªç½\\x91ç«\\x99ã\\x80\\x82è¿\\x99ç§\\x8dæ¿\\x80å¢\\x9eæ\\x84\\x8få\\x91³ç\\x9d\\x80ï¼\\x8cé\\x99¤äº\\x86ç§\\x91å\\xad¦å®¶å\\x92\\x8cç\\xa0\\x94ç©¶äººå\\x91\\x98ä¹\\x8bå¤\\x96ï¼\\x8cè¿\\x98æ\\x9c\\x89å\\x85¶ä»\\x96äººä¹\\x9få\\x9c¨ä½¿ç\\x94¨ Webã\\x80\\x82\\n\\né\\x9a\\x8fç\\x9d\\x80ä¸\\x80äº\\x9bæ\\x9c\\x80æ\\x97©ç\\x9a\\x84ç½\\x91ç«\\x99å\\x87ºç\\x8e°ï¼\\x8cæ\\x82¨ä¼\\x9aæ³¨æ\\x84\\x8få\\x88°ä¸\\x80äº\\x9bç\\x86\\x9fæ\\x82\\x89ç\\x9a\\x84å¤§å\\x9e\\x8bç§\\x91æ\\x8a\\x80å\\x85¬å\\x8f¸ï¼\\x8cä»¥å\\x8f\\x8aæ\\x82¨å¦\\x82ä»\\x8aä»\\x8dæ\\x9c\\x89å\\x8f¯è\\x83½ä½¿ç\\x94¨ç\\x9a\\x84ä¸\\x80äº\\x9bæ\\x9c\\x8då\\x8a¡ã\\x80\\x82æ\\x82¨è¿\\x98ä¼\\x9aæ³¨æ\\x84\\x8få\\x88°â\\x80¦â\\x80¦Pizza Hutï¼\\x9f*å¯¹ï¼\\x8cç¡®å®\\x9eä¼\\x9a*ã\\x80\\x82æ\\x9c\\x80æ\\x97©æ\\x8e¨å\\x87ºç\\x9a\\x84ä¸\\x80äº\\x9bå¤§å\\x9e\\x8b Web 1.0 ç½\\x91ç«\\x99å\\x8c\\x85æ\\x8b¬ï¼\\x9a\\n\\nå\\x88° 1996 å¹´ï¼\\x8cWeb å·²æ\\x8b¥æ\\x9c\\x89è¶\\x85è¿\\x87 200,000 ä¸ªç½\\x91ç«\\x99ï¼\\x8c.com ç\\x83\\xadæ½®å\\x9c¨å½\\x93æ\\x97¶å¦\\x82ç\\x81«å¦\\x82è\\x8d¼å\\x9c°æ\\x8e¨è¿\\x9bã\\x80\\x82å°½ç®¡å¦\\x82æ\\xad¤ï¼\\x8cæ\\x8c\\x89ç\\x85§å¦\\x82ä»\\x8aç\\x9a\\x84æ\\xa0\\x87å\\x87\\x86ï¼\\x8cWeb è¿\\x98æ\\x98¯å¾\\x88å\\x8e\\x9få§\\x8bã\\x80\\x82å¤§å¤\\x9aæ\\x95°ç½\\x91ç«\\x99é\\x83½è\\x83½å\\x90\\x91æ\\x83³è¦\\x81äº\\x86è§£å®\\x83ç\\x9a\\x84ç\\x94¨æ\\x88·æ\\x8f\\x90ä¾\\x9bä¿¡æ\\x81¯â\\x80\\x94ä½\\x86ä»\\x85æ\\xad¤è\\x80\\x8cå·²ã\\x80\\x82ä»\\x8e Web 1.0 è¿\\x87æ¸¡å\\x88° Web 2.0 ç»\\x8få\\x8e\\x86äº\\x86å¾\\x88å¤\\x9aå¹´ï¼\\x8cå\\x9b\\xa0ä¸ºäº\\x92è\\x81\\x94ç½\\x91ç\\x9a\\x84å\\x9fºç¡\\x80è®¾æ\\x96½å\\x92\\x8cå¼\\x80å\\x8f\\x91å·¥å\\x85·è¶\\x8aæ\\x9d¥è¶\\x8aå\\x85\\x88è¿\\x9bï¼\\x8cå¹¶ä¸\\x94å\\x8f\\x82ä¸\\x8eå\\x85¶ä¸\\xadç\\x9a\\x84äººä¹\\x9fè¶\\x8aæ\\x9d¥è¶\\x8aå¤\\x9aã\\x80\\x82\\n\\n## Web 2.0\\n\\nå\\x88° 90 å¹´ä»£å\\x90\\x8eæ\\x9c\\x9fï¼\\x8cå¼\\x80å§\\x8bå\\x90\\x91 Web 2.0 è¿\\x87æ¸¡ï¼\\x88å°½ç®¡å\\x85·æ\\x9c\\x89 Web 2.0 ç\\x89¹å¾\\x81ç\\x9a\\x84å\\x8a\\x9fè\\x83½å\\x88° 2004 å¹´å·¦å\\x8f³æ\\x89\\x8dæ\\x99®å\\x8f\\x8aï¼\\x89ã\\x80\\x82\\n\\nå½\\x93ä¸\\x80äº\\x9b Web 1.0 ç½\\x91ç«\\x99å¼\\x95å\\x85¥â\\x80\\x9cç¤¾äº¤â\\x80\\x9då\\x8a\\x9fè\\x83½æ\\x97¶ï¼\\x8cè¿\\x87æ¸¡å°±å¼\\x80å§\\x8bäº\\x86ã\\x80\\x82ä¾\\x8bå¦\\x82ï¼\\x8ceBay å\\x9c¨å\\x85¶é¡µé\\x9d¢ä¸\\x8aæ\\x98¾ç¤ºæ\\x8e¨è\\x8d\\x90å\\x92\\x8cè¯\\x84è®ºï¼\\x8cå¹¶è®©ç\\x94¨æ\\x88·è\\x83½å¤\\x9fâ\\x80\\x9cè¯\\x84ä»·â\\x80\\x9dä¹°å®¶å\\x92\\x8cå\\x8d\\x96å®¶ã\\x80\\x82\\n\\nWeb 2.0 å°±æ\\x98¯å¦\\x82ä»\\x8aæ\\x88\\x91ä»¬å¤§å¤\\x9aæ\\x95°äººé\\x83½ç\\x9f¥æ\\x82\\x89ç\\x9a\\x84äº\\x92è\\x81\\x94ç½\\x91ã\\x80\\x82å®\\x83æ¶\\x89å\\x8f\\x8aç¤¾äº¤åª\\x92ä½\\x93ã\\x80\\x81å\\x8d³æ\\x97¶ç½\\x91ç«\\x99å\\x88\\x9bå»ºã\\x80\\x81æ\\x8a\\x95èµ\\x84ç»\\x84å\\x90\\x88ç½\\x91ç«\\x99ã\\x80\\x81å\\x8d\\x9aå®¢å\\x92\\x8cè®ºå\\x9d\\x9bâ\\x80¦â\\x80¦å\\x9fºæ\\x9c¬ä¸\\x8aé\\x83½æ\\x98¯æ\\x82¨å\\x8f¯ä»¥è½»æ\\x9d¾ä¸\\x8aä¼\\xa0å\\x86\\x85å®¹å¹¶ä½¿å\\x85¶ä»\\x96äººå\\x8f¯è§\\x81ç\\x9a\\x84ä»»ä½\\x95å¹³å\\x8f°ã\\x80\\x82æ\\xad¤å¤\\x96è¿\\x98æ¶\\x89å\\x8f\\x8aåº\\x94ç\\x94¨ Webï¼\\x8cä»\\x8eé\\x93¶è¡\\x8cå\\x88°æ\\x9d\\x82è´§è®¢å\\x8d\\x95å\\x86\\x8då\\x88°æ\\x8b¼è½¦ï¼\\x8cåº\\x94æ\\x9c\\x89å°½æ\\x9c\\x89ã\\x80\\x82Facebookã\\x80\\x81YouTubeã\\x80\\x81Wikipediaã\\x80\\x81Amazonã\\x80\\x81Yelp!â\\x80¦â\\x80¦å\\x87\\xa0ä¹\\x8eä»»ä½\\x95æ\\x82¨å\\x8f¯ä»¥å\\x8f\\x91è¡¨æ\\x96\\x87ç«\\xa0ã\\x80\\x81å\\x8f\\x91å¸\\x83å\\x86\\x85å®¹æ\\x88\\x96ç\\x99»å½\\x95ç\\x9a\\x84ç½\\x91ç«\\x99é\\x83½è¢«è§\\x86ä¸º Web 2.0ã\\x80\\x82å®\\x83ä»¬ä½¿ç\\x94¨å\\x8a¨æ\\x80\\x81 HTMLï¼\\x8cå\\x85¶å\\x86\\x85å®¹é\\x80\\x9aå¸¸æ\\x9d¥è\\x87ªæ\\x95°æ\\x8d®åº\\x93ã\\x80\\x82\\n\\nå¤§çº¦å\\x9c¨äº\\x92è\\x81\\x94ç½\\x91å\\x8f\\x91å±\\x95ç\\x9a\\x84å\\x89\\x8då\\x8d\\x81å¹´ï¼\\x8cç\\x94¨æ\\x88·å\\x8f¯ä»¥è¿\\x9eæ\\x8e¥å¹¶é\\x98\\x85è¯»å\\x86\\x85å®¹ï¼\\x8cç\\x94\\x9aè\\x87³å\\x8f¯ä»¥å\\x9c¨ eBay ä¸\\x8aè®¢è´\\xadæ\\x8a«è\\x90¨æ\\x88\\x96ç«\\x9eæ\\x8b\\x8då\\x95\\x86å\\x93\\x81â\\x80\\x94ä½\\x86ä»\\x85æ\\xad¤è\\x80\\x8cå·²ã\\x80\\x82Web 2.0 å\\x8f\\x97æ¬¢è¿\\x8eç\\x9a\\x84å\\x8e\\x9få\\x9b\\xa0å\\x9c¨äº\\x8eï¼\\x8cå®\\x83æ\\xa0\\x87å¿\\x97ç\\x9d\\x80ç\\x94¨æ\\x88·ç¬¬ä¸\\x80æ¬¡å\\x8f¯ä»¥è\\x87ªè¡\\x8cå\\x88\\x9bå»ºå\\x86\\x85å®¹ã\\x80\\x82\\n\\nå\\x9b\\xa0æ\\xad¤ï¼\\x8cWeb 2.0 æ\\x9c\\x89æ\\x97¶è¢«ç§°ä¸ºâ\\x80\\x9cè¯»å\\x86\\x99â\\x80\\x9dWebã\\x80\\x82\\n\\n## Web 2.0 ç\\x9a\\x84ç¼ºç\\x82¹\\n\\nè\\x99½ç\\x84¶ Web 2.0 ä½¿å\\x86\\x85å®¹å\\x8f\\x91å¸\\x83å®\\x9eç\\x8e°äº\\x86æ°\\x91ä¸»å\\x8c\\x96ï¼\\x8cä½\\x86å¤§å\\x9e\\x8bç§\\x91æ\\x8a\\x80å\\x85¬å\\x8f¸å½\\x93æ\\x97¶æ\\xad£å¿\\x99äº\\x8eå\\x9e\\x84æ\\x96\\xad Webã\\x80\\x82ä»\\x96ä»¬æ\\x8e§å\\x88¶ç\\x9d\\x80å\\x9fºç¡\\x80è®¾æ\\x96½ã\\x80\\x81åº\\x94ç\\x94¨å\\x92\\x8cæ\\x9c\\x8då\\x8a¡å\\x99¨ï¼\\x8cå\\x9b\\xa0æ\\xad¤å\\x8f¯ä»¥å\\x86³å®\\x9aå\\x8f\\x82ä¸\\x8eè\\x80\\x85ã\\x80\\x81å\\x8f\\x82ä¸\\x8eæ\\x97¶é\\x97´å\\x92\\x8cå\\x8f\\x82ä¸\\x8eæ\\x96¹å¼\\x8fã\\x80\\x82è\\x80\\x8cä½\\x9cä¸ºâ\\x80\\x9cè®©â\\x80\\x9dæ\\x82¨å\\x8f\\x82ä¸\\x8eç\\x9a\\x84äº¤æ\\x8d¢ï¼\\x8cä»\\x96ä»¬è®©æ\\x82¨æ\\x8f\\x90ä¾\\x9bå\\x85\\x8dè´¹è®¿é\\x97®æ\\x82¨æ\\x95°æ\\x8d®ç\\x9a\\x84æ\\x9d\\x83é\\x99\\x90ï¼\\x8cä¹\\x8bå\\x90\\x8eä»\\x96ä»¬å\\x86\\x8då°\\x86å\\x85¶å\\x8d\\x96ç»\\x99å\\x87ºä»·æ\\x9c\\x80é«\\x98ç\\x9a\\x84äººï¼\\x88è¿\\x99ä¸ªè¿\\x87ç¨\\x8bç®\\x80ç\\x9b´è®©äººæ\\x81¶å¿\\x83ï¼\\x89ã\\x80\\x82\\n\\nç®\\x80è\\x80\\x8cè¨\\x80ä¹\\x8bï¼\\x8cWeb 2.0 å\\xad\\x98å\\x9c¨ä¸¤å¤§æ\\xa0¸å¿\\x83é\\x97®é¢\\x98ï¼\\x9aå®\\x8cå\\x85¨ç¼ºä¹\\x8fæ\\x95°æ\\x8d®é\\x9a\\x90ç§\\x81ï¼\\x8cè\\x80\\x8cä¸\\x94è¿\\x87äº\\x8eé\\x9b\\x86ä¸\\xadå\\x8c\\x96ã\\x80\\x82\\n\\n### é\\x9a\\x90ç§\\x81\\n\\nWeb 2.0 åº\\x94ç\\x94¨é\\x80\\x9aå¸¸æ\\x98¯â\\x80\\x9cå\\x85\\x8dè´¹ç\\x9a\\x84â\\x80\\x9dï¼\\x8cå\\x9b\\xa0ä¸ºä½¿ç\\x94¨å\\x85¶æ\\x9c\\x8då\\x8a¡ä¸\\x8dæ\\x94¶è´¹ã\\x80\\x82ä½\\x86æ\\x98¯ï¼\\x8cè¿\\x99äº\\x9båº\\x94ç\\x94¨è\\x83\\x8cå\\x90\\x8eç\\x9a\\x84å\\x85¬å\\x8f¸å¿\\x85é¡»å¾\\x97ä»¥æ\\x9f\\x90ç§\\x8dæ\\x96¹å¼\\x8få\\x88\\x9bæ\\x94¶ã\\x80\\x82å\\x9b\\xa0æ\\xad¤ï¼\\x8cä»\\x96ä»¬å\\x88©ç\\x94¨å\\x85¶ç\\x94¨æ\\x88·â\\x80\\x9cç\\x89\\x9få\\x88©â\\x80\\x9dï¼\\x9aä»\\x96ä»¬æ\\x94¶é\\x9b\\x86å¤§é\\x87\\x8fä¸ªäººæ\\x95°æ\\x8d®ï¼\\x8cå¹¶ä»¥å\\x90\\x91å\\x9c¨çº¿å¹¿å\\x91\\x8aå\\x95\\x86å\\x87ºå\\x94®å\\x85·æ\\x9c\\x89é«\\x98åº¦é\\x92\\x88å¯¹æ\\x80§ç\\x9a\\x84å¹¿å\\x91\\x8aç©ºé\\x97´ç\\x9a\\x84å½¢å¼\\x8fä»\\x8eä¸\\xadè\\x8e·å\\x88©ã\\x80\\x82\\n\\nä»¥ç½\\x91ä¸\\x8aè´\\xadç\\x89©ä¸ºä¾\\x8bã\\x80\\x82å\\x9c¨ Web 2.0 ä¸\\xadï¼\\x8cå¦\\x82æ\\x9e\\x9cæ\\x82¨å\\x9c¨ç½\\x91ä¸\\x8aè´\\xadä¹°ä¸\\x80å\\x8f\\x8cé\\x9e\\x8bï¼\\x8cé\\x9a\\x8få\\x90\\x8eæ\\x82¨å°\\x86å\\x9c¨å\\x85¶ä»\\x96ç½\\x91ç«\\x99ã\\x80\\x81æ\\x82¨ç\\x9a\\x84æ\\x96°é\\x97»æ\\x8f\\x90è¦\\x81ä¹\\x83è\\x87³æ\\x82¨ç\\x9a\\x84ç\\x94µå\\xad\\x90é\\x82®ç®±æ\\x94¶ä»¶ç®±ä¸\\xadç\\x9c\\x8bå\\x88°æ\\x9c\\x89å\\x85³å\\x90\\x8cæ¬¾é\\x9e\\x8bç\\x9a\\x84å\\x90\\x84ç±»ç²¾å\\x87\\x86å¹¿å\\x91\\x8aã\\x80\\x82\\n\\né\\x82£æ\\x98¯å\\x9b\\xa0ä¸ºæ\\x82¨ç\\x9a\\x84å\\x9c¨çº¿è¡\\x8cä¸ºï¼\\x88ä¾\\x8bå¦\\x82æ\\x90\\x9cç´¢ã\\x80\\x81ç\\x82¹å\\x87»å\\x92\\x8cè´\\xadä¹°ï¼\\x89ç»\\x8få¸¸è¢«æ\\x82¨ä½¿ç\\x94¨ç\\x9a\\x84ç½\\x91ç«\\x99å\\x92\\x8cåº\\x94ç\\x94¨è®°å½\\x95ä¸\\x8bæ\\x9d¥ï¼\\x8cè¿\\x99è¦\\x81å½\\x92å\\x8a\\x9fäº\\x8e cookieã\\x80\\x81è·\\x9fè¸ªç¨\\x8båº\\x8få\\x8f\\x8aå\\x85¶ä»\\x96ä»¤äººæ¯\\x9béª¨æ\\x82\\x9aç\\x84¶ç\\x9a\\x84å·¥å\\x85·ã\\x80\\x82å\\x8d³ä½¿å\\x9c¨è®¸å¤\\x9aç½\\x91ç«\\x99å\\x92\\x8cåº\\x94ç\\x94¨ä¸\\x8aå\\x88\\x9bå»ºå¸\\x90æ\\x88·ï¼\\x8cä¹\\x9fè¦\\x81æ±\\x82ç\\x94¨æ\\x88·æ\\x8f\\x90ä¾\\x9bæ\\x95\\x8fæ\\x84\\x9fç\\x9a\\x84ä¸ªäººä¿¡æ\\x81¯ã\\x80\\x82ä¹\\x8bå\\x90\\x8eï¼\\x8cæ\\x95°æ\\x8d®ç»\\x8få¸¸è¢«å\\x87ºå\\x94®å\\x92\\x8cå\\x85±äº«ã\\x80\\x82ä¸ºè¿\\x99ç§\\x8dè¿½è¸ªï¼\\x88æ\\x88\\x96â\\x80\\x9cå\\x86\\x8dæ¬¡å®\\x9aä½\\x8dâ\\x80\\x9dï¼\\x89æ\\x8f\\x90ä¾\\x9bæ\\x94¯æ\\x8c\\x81ç\\x9a\\x84æ\\x95°æ\\x8d®æ\\x94¶é\\x9b\\x86å¯¼è\\x87´å¤§é\\x87\\x8fæ\\x95°æ\\x8d®æ³\\x84é\\x9c²ï¼\\x8cç»§è\\x80\\x8cè\\x87´ä½¿å¤§å\\x9e\\x8bç§\\x91æ\\x8a\\x80å\\x85¬å\\x8f¸æ\\x95°ç\\x99¾ä¸\\x87ç\\x94¨æ\\x88·ç\\x9a\\x84å¯\\x86ç\\xa0\\x81ã\\x80\\x81ä¿¡ç\\x94¨å\\x8d¡æ\\x88\\x96ç¤¾ä¼\\x9aä¿\\x9dé\\x9a\\x9cå\\x8f·ç\\xa0\\x81è¢«é»\\x91å®¢å\\x85¥ä¾µã\\x80\\x82\\n\\nWeb 2.0 æ\\x89\\x80é\\x9d¢ä¸´ç\\x9a\\x84æ\\x8c\\x91æ\\x88\\x98å\\x9c¨äº\\x8eï¼\\x8cç\\x94¨æ\\x88·å¸¸å¸¸æ\\x97\\xa0æ³\\x95æ\\x8e§å\\x88¶å\\x85¶æ\\x95°æ\\x8d®æ\\x98¯å\\x90¦è¢«æ\\x94¶é\\x9b\\x86ã\\x80\\x81å¦\\x82ä½\\x95å\\xad\\x98å\\x82¨å\\x85¶æ\\x95°æ\\x8d®ä»¥å\\x8f\\x8aå¤§å\\x9e\\x8bç§\\x91æ\\x8a\\x80å\\x85¬å\\x8f¸å¦\\x82ä½\\x95å¤\\x84ç\\x90\\x86å\\x85¶æ\\x95°æ\\x8d®ã\\x80\\x82å\\x9fºæ\\x9c¬ä¸\\x8aï¼\\x8cæ\\x82¨å¿\\x85é¡»ä»¥æ\\x82¨ç\\x9a\\x84æ\\x95°æ\\x8d®ä¸ºäº¤æ\\x8d¢æ\\x89\\x8dè\\x83½ä½¿ç\\x94¨åº\\x94ç\\x94¨ã\\x80\\x82ç§\\x91æ\\x8a\\x80å\\x85¬å\\x8f¸å¹¶ä¸\\x8dç\\x9b´æ\\x8e¥å\\x88©ç\\x94¨å\\x85¶äº§å\\x93\\x81å\\x88\\x9bæ\\x94¶ï¼\\x8cå\\x9b\\xa0æ\\xad¤æ\\x82¨ä¹\\x9få°±æ\\x88\\x90ä¸ºäº\\x86ä¸\\x80ç§\\x8däº§å\\x93\\x81ã\\x80\\x82\\n\\n### é\\x9b\\x86ä¸\\xadå\\x8c\\x96\\n\\nWeb 2.0 ç\\x9a\\x84å\\x8f¦ä¸\\x80ä¸ªä¸»è¦\\x81ç¼ºç\\x82¹å\\x9c¨äº\\x8eï¼\\x8cå®\\x83ä¾\\x9dèµ\\x96äº\\x8eä¸\\xadå¤®ä¸»ç®¡æ\\x9cºæ\\x9e\\x84ã\\x80\\x82å°±å\\x83\\x8fæ\\x94¿åº\\x9cã\\x80\\x81å¤§å\\x9e\\x8bç§\\x91æ\\x8a\\x80å\\x85¬å\\x8f¸å\\x92\\x8cå¤§å\\x9e\\x8bé\\x93¶è¡\\x8cä¸\\x80æ\\xa0·ã\\x80\\x82è¿\\x99äº\\x9bä¸\\xadå¤®ä¸»ç®¡æ\\x9cºæ\\x9e\\x84å\\x8f¯ä»¥è¡\\x8cä½¿éª\\x8cè¯\\x81æ\\x82¨ç\\x9a\\x84èº«ä»½ã\\x80\\x81æ\\x8e\\x88æ\\x9d\\x83å\\x9c¨çº¿äº¤æ\\x98\\x93ã\\x80\\x81æ\\x8e§å\\x88¶è°\\x81å\\x8f¯ä»¥å\\x8f\\x91å¸\\x83å\\x86\\x85å®¹ï¼\\x88ä»¥å\\x8f\\x8aä»\\x80ä¹\\x88æ\\xa0·ç\\x9a\\x84å\\x86\\x85å®¹ï¼\\x89ç\\xad\\x89æ\\x9d\\x83å\\x8a\\x9bã\\x80\\x82æ\\x9c¬è´¨ä¸\\x8aï¼\\x8cWeb 2.0 å\\x85¬å\\x8f¸å°±å\\x83\\x8fä¸\\x80ä¸ªä¸ªä»\\x81æ\\x85\\x88ç\\x9a\\x84ç\\x8b¬è£\\x81è\\x80\\x85ï¼\\x9aä»\\x96ä»¬å\\x86³å®\\x9aå\\x93ªäº\\x9bäººå\\x8f¯ä»¥ç\\x99»å½\\x95æ\\x88\\x96é\\x80\\x80å\\x87ºã\\x80\\x81è¿\\x99äº\\x9bäººå\\x8f¯ä»¥ä¿\\x9dæ\\x8c\\x81å\\x9c¨çº¿å¤\\x9aä¹\\x85ä»¥å\\x8f\\x8aå\\x8f¯ä»¥æ\\x89§è¡\\x8cå\\x93ªäº\\x9bæ\\x93\\x8dä½\\x9cã\\x80\\x82\\n\\nä»¥ç½\\x91ä¸\\x8aé\\x93¶è¡\\x8cä¸ºä¾\\x8bã\\x80\\x82æ\\x82¨ä½¿ç\\x94¨ç\\x9a\\x84ä»»ä½\\x95é\\x93¶è¡\\x8cé\\x83½æ\\x8c\\x81æ\\x9c\\x89æ\\x82¨ç\\x9a\\x84èµ\\x84äº§ã\\x80\\x82ä»\\x96ä»¬å\\x86³å®\\x9aæ\\x82¨å¦\\x82ä½\\x95è®¿é\\x97®è¿\\x99äº\\x9bèµ\\x84äº§ï¼\\x88ä¾\\x8bå¦\\x82ï¼\\x8cä½¿ç\\x94¨å\\x80\\x9fè®°å\\x8d¡ã\\x80\\x81ATM æ\\x88\\x96ç§»å\\x8a¨åº\\x94ç\\x94¨ï¼\\x89ã\\x80\\x82æ\\x82¨å\\x8f¯ä»¥å\\x92\\x8cè°\\x81äº¤æ\\x98\\x93ä¹\\x9fç\\x94±ä»\\x96ä»¬è¯´äº\\x86ç®\\x97ã\\x80\\x82è\\x80\\x8cä¸\\x94ï¼\\x8cæ\\x9c\\x80é\\x87\\x8dè¦\\x81ç\\x9a\\x84æ\\x98¯ï¼\\x8cä»\\x96ä»¬ä¼\\x9aéª\\x8cè¯\\x81æ\\x82¨ç\\x9a\\x84èº«ä»½å\\x92\\x8cè®¿é\\x97®å\\x87\\xadæ\\x8d®ï¼\\x88å\\x9fºäº\\x8eæ\\x94¿åº\\x9cç\\xad\\x89å\\x85¶ä»\\x96ä¸\\xadå¤®é\\x9b\\x86æ\\x9d\\x83æ\\x8f\\x90ä¾\\x9bç\\x9a\\x84ç¤¾ä¼\\x9aä¿\\x9dé\\x9a\\x9cå\\x8f·ç\\xa0\\x81ã\\x80\\x81æ\\x8a¤ç\\x85§æ\\x88\\x96èº«ä»½è¯\\x81ç\\xad\\x89ä¿¡æ\\x81¯ï¼\\x89ã\\x80\\x82\\n\\nè\\x80\\x8cè¿\\x99å\\x8fªæ\\x98¯ä¸\\x80ä¸ªä¾\\x8bå\\xad\\x90ã\\x80\\x82å\\x9c¨å¹\\x95å\\x90\\x8eï¼\\x8cå¤§å\\x9e\\x8bç§\\x91æ\\x8a\\x80å\\x85¬å\\x8f¸è¢«ç\\x94¨æ\\x9d¥éª\\x8cè¯\\x81æ\\x82¨ç\\x9a\\x84èº«ä»½å¹¶å\\x90\\x91æ\\x82¨æ\\x8e\\x88äº\\x88è®¿é\\x97®æ\\x95°å\\x8d\\x83ç§\\x8dæ\\x9c\\x8då\\x8a¡ç\\x9a\\x84æ\\x9d\\x83é\\x99\\x90ã\\x80\\x82å¤§å¤\\x9aæ\\x95°äººé\\x83½ä¸\\x8dç\\x9f¥é\\x81\\x93 Facebook å\\x92\\x8c Google è¢«ç\\x94¨ä½\\x9cå\\x85¶ä»\\x96åº\\x94ç\\x94¨ç\\x9a\\x84èº«ä»½éª\\x8cè¯\\x81æ\\x9c\\x8då\\x8a¡ç\\x9a\\x84é¢\\x91ç\\x8e\\x87ã\\x80\\x82\\n\\nå\\x9c¨ Web 2.0 ä¸\\xadï¼\\x8cä¸ªäººæ\\x8b¥æ\\x9c\\x89ç\\x9a\\x84ä¸ªäººæ\\x9d\\x83å\\x88©å¾\\x88å°\\x91ã\\x80\\x82æ¬§æ´² GDPR å\\x92\\x8cå\\x8a\\xa0å·\\x9e CCPA ç\\xad\\x89è§\\x84å®\\x9aç¡®å®\\x9eè\\x83½æ\\x8e\\x88äº\\x88ç\\x94¨æ\\x88·æ\\x9b´å¤\\x9aç\\x9a\\x84æ\\x9d\\x83å\\x88©æ\\x9d¥æ\\x8a«é\\x9c²æ\\x89\\x80æ\\x94¶é\\x9b\\x86ç\\x9a\\x84å\\x86\\x85å®¹ã\\x80\\x81æ\\x94¶é\\x9b\\x86æ\\x96¹å¼\\x8fã\\x80\\x81å\\xad\\x98å\\x82¨ä½\\x8dç½®ä»¥å\\x8f\\x8aé\\x94\\x80æ¯\\x81æ\\x96¹å¼\\x8fã\\x80\\x82ä½\\x86æ\\x9c\\x80ç»\\x88ï¼\\x8cæ\\xa0¸å¿\\x83é\\x97®é¢\\x98ä¾\\x9dç\\x84¶å\\xad\\x98å\\x9c¨ï¼\\x9aé\\x9b\\x86ä¸\\xadå\\x8c\\x96ä¸»ç®¡æ\\x9cºæ\\x9e\\x84 ã\\x80\\x82\\n\\n## Web3 ç\\x9a\\x84å·®å¼\\x82ä¹\\x8bå¤\\x84\\n\\nWeb3 é\\x87\\x87ç\\x94¨ Web 2.0 ç\\x9a\\x84â\\x80\\x9cç¤¾äº¤â\\x80\\x9dæ¨¡å¼\\x8fï¼\\x8cå¹¶æ\\x9b´æ\\x94¹äº\\x86å\\x85¶åº\\x95å±\\x82ç»\\x93æ\\x9e\\x84ï¼\\x8cä½¿å\\x85¶æ\\x9b´å\\x8a\\xa0å\\x85¬å¹³ã\\x80\\x81å\\x85¬å¼\\x80å\\x92\\x8cå\\x8e»ä¸\\xadå¿\\x83å\\x8c\\x96ã\\x80\\x82Web3 å\\x8fªæ\\x98¯ä¸\\x80ç§\\x8dæ\\x96°ç\\x9a\\x84å\\x9fºç¡\\x80è®¾æ\\x96½ï¼\\x8cä¸\\x80ç§\\x8dæ\\x9e\\x84å»ºæ\\x82¨å·²ç»\\x8fä¹\\xa0æ\\x83¯ç\\x9a\\x84äº\\x8bç\\x89©ç\\x9a\\x84æ\\x96°æ\\x96¹å¼\\x8fã\\x80\\x82Web3 ä»\\x8dæ¶\\x89å\\x8f\\x8aç¤¾äº¤åª\\x92ä½\\x93ã\\x80\\x81è§\\x86é¢\\x91æµ\\x81åª\\x92ä½\\x93å\\x92\\x8cé\\x87\\x91è\\x9e\\x8dåº\\x94ç\\x94¨ç\\xad\\x89äº\\x8bç\\x89©ã\\x80\\x82å\\x8fªæ\\x98¯è¿\\x99äº\\x9bâ\\x80\\x9cDAppâ\\x80\\x9dç\\x9b®å\\x89\\x8då®\\x9eç\\x8e°äº\\x86å\\x8e»ä¸\\xadå¿\\x83å\\x8c\\x96ã\\x80\\x82\\n\\n*[è¯¦ç»\\x86äº\\x86è§£ DApp å\\x8f\\x8a Web3 ä¸\\x8aå\\x9c¨æ\\x9e\\x84å»ºç\\x9a\\x84å\\x86\\x85å®¹](/zh/web3/built-on-web3/)ã\\x80\\x82*\\n\\nWeb3 ä¾\\x9dèµ\\x96äº\\x8eå\\x8cºå\\x9d\\x97é\\x93¾å\\x92\\x8cå\\x8a\\xa0å¯\\x86è´§å¸\\x81ç\\xad\\x89å°\\x96ç«¯æ\\x8a\\x80æ\\x9c¯ã\\x80\\x82äº\\x8bå®\\x9eä¸\\x8aï¼\\x8cå\\x8e»ä¸\\xadå¿\\x83å\\x8c\\x96 Web è¿\\x99ä¸\\x80ç\\x90\\x86å¿µæº\\x90è\\x87ªç¬¬ä¸\\x80æ\\x89¹æ\\x88\\x90å\\x8a\\x9fç\\x9a\\x84å\\x8cºå\\x9d\\x97é\\x93¾ç½\\x91ç»\\x9cå\\x92\\x8cå\\x8a\\xa0å¯\\x86è´§å¸\\x81ã\\x80\\x82è¿\\x99æ\\x98¯ä½¿ Web å®\\x9eç\\x8e°å\\x8e»ä¸\\xadå¿\\x83å\\x8c\\x96ç\\x9a\\x84åº\\x95å±\\x82æ\\x8a\\x80æ\\x9c¯ã\\x80\\x82\\n\\n*[äº\\x86è§£ Web3 ç\\x9a\\x84å\\x9fºç¡\\x80æ\\x8a\\x80æ\\x9c¯å\\x8f\\x8aå\\x85¶å®\\x9eç\\x8e°æ\\x96¹å¼\\x8f](/zh/web3/built-on-web3/)ã\\x80\\x82*\\n\\n2009 å¹´æ\\x8e¨å\\x87ºç\\x9a\\x84æ¯\\x94ç\\x89¹å¸\\x81ç½\\x91ç»\\x9cï¼\\x8cæ\\xa0\\x87å¿\\x97ç\\x9d\\x80æ\\x96°å\\x85´ç\\x9a\\x84å\\x8e»ä¸\\xadå¿\\x83å\\x8c\\x96æ\\x8a\\x80æ\\x9c¯é¦\\x96æ¬¡å\\x90\\x91ä¸\\xadå¤®é\\x9b\\x86ä¸\\xadï¼\\x88å\\x8d³å¤§å\\x9e\\x8bé\\x93¶è¡\\x8cå\\x92\\x8cæ³\\x95å®\\x9aè´§å¸\\x81ï¼\\x89æ\\x8f\\x90å\\x87ºäº\\x86è´¨ç\\x96\\x91ã\\x80\\x82æ¯\\x94ç\\x89¹å¸\\x81ç\\x9a\\x84ä¸»è¦\\x81ç\\x94¨é\\x80\\x94æ\\x98¯å\\x85\\x85å½\\x93æ\\x95°å\\xad\\x97è´§å¸\\x81ï¼\\x9aä¸\\x80ç§\\x8dæ\\x97\\xa0é\\x9c\\x80ä¿¡èµ\\x96é\\x93¶è¡\\x8cå\\x8d³å\\x8f¯ä»¥æ\\x95°å\\xad\\x97å½¢å¼\\x8få®\\x9eç\\x8e°ä»·å\\x80¼äº¤æ\\x8d¢ç\\x9a\\x84æ\\x96¹å¼\\x8fã\\x80\\x82è¿\\x99æ\\x98¯ä¸\\x80ä¸ªæ\\x96°é¢\\x96ç\\x9a\\x84å\\x8f\\x98é\\x9d©æ\\x80§æ¦\\x82å¿µã\\x80\\x82è\\x99½ç\\x84¶æ\\x8c\\x89å¦\\x82ä»\\x8aç\\x9a\\x84æ\\xa0\\x87å\\x87\\x86æ\\x9d¥ç\\x9c\\x8bï¼\\x8cæ¯\\x94ç\\x89¹å¸\\x81è¿\\x98å¤\\x84äº\\x8eå\\x88\\x9dçº§é\\x98¶æ®µï¼\\x88å\\x9b\\xa0ä¸ºå®\\x83ç\\x9c\\x9fæ\\xad£ç\\x9a\\x84ç\\x94¨é\\x80\\x94å\\x8fªæ\\x98¯å®\\x9eç\\x8e°äº¤æ\\x98\\x93ï¼\\x89ï¼\\x8cä½\\x86å®\\x83æ\\x98¯ç¬¬ä¸\\x80ä¸ªæ\\x88\\x90å\\x8a\\x9fç\\x9a\\x84å\\x8cºå\\x9d\\x97é\\x93¾ç½\\x91ç»\\x9cï¼\\x8cä¹\\x9fæ\\x98¯å¼\\x80å§\\x8bè®©å\\x90\\x84ç§\\x8dæ\\x97§ç³»ç»\\x9få®\\x9eç\\x8e°å\\x8e»ä¸\\xadå¿\\x83å\\x8c\\x96æ\\x89\\x80é\\x9c\\x80ç\\x9a\\x84æ\\x8a\\x80æ\\x9c¯å\\x8a\\x9bé\\x87\\x8fã\\x80\\x82\\n\\n2015 å¹´ï¼\\x8cä»¥å¤ªå\\x9d\\x8aç½\\x91ç»\\x9cä½\\x9cä¸ºä¸\\x96ç\\x95\\x8cä¸\\x8aç¬¬ä¸\\x80ä¸ªå\\x8f¯ç¼\\x96ç¨\\x8bå\\x8cºå\\x9d\\x97é\\x93¾æ\\x8e¨å\\x87ºï¼\\x8cä½¿å¼\\x80å\\x8f\\x91äººå\\x91\\x98è\\x83½å¤\\x9få\\x9c¨å\\x8cºå\\x9d\\x97é\\x93¾ç\\x9a\\x84å\\x8e»ä¸\\xadå¿\\x83å\\x8c\\x96å\\x9fºç¡\\x80è®¾æ\\x96½ä¹\\x8bä¸\\x8aæ\\x9e\\x84å»ºç½\\x91ç«\\x99ã\\x80\\x81åº\\x94ç\\x94¨å\\x92\\x8cæ\\x9c\\x8då\\x8a¡ã\\x80\\x82\\n\\nå¤§è\\x87´æ\\x9d¥è¯´ï¼\\x8c2015 å¹´æ\\xa0\\x87å¿\\x97ç\\x9d\\x80ä»\\x8e Web 2.0 è¿\\x87æ¸¡å\\x88° Web3 ç\\x9a\\x84å¼\\x80å§\\x8bã\\x80\\x82\\n\\nè¿\\x99ä¸ªè½¬æ\\x8a\\x98ç\\x82¹ä½¿å¾\\x97å\\x8cºå\\x9d\\x97é\\x93¾ä¸\\x8dä»\\x85è\\x83½å¤\\x9få\\x8f\\x91é\\x80\\x81ç\\x82¹å¯¹ç\\x82¹äº¤æ\\x98\\x93ï¼\\x8cè¿\\x98å\\x8f¯ä»¥å\\x9c¨ Web ä¸\\x8aæ\\x89\\x98ç®¡é\\x80\\x9aå¸¸ä¾\\x9dèµ\\x96äº\\x8eé\\x9b\\x86ä¸\\xadå\\x8c\\x96æ\\x9c\\x8då\\x8a¡å\\x99¨ç\\x9a\\x84äº\\x8bç\\x89©ã\\x80\\x82è¿\\x99å°±æ\\x98¯ Web3 ç\\x9a\\x84è¿\\x90ä½\\x9cæ\\x9cºå\\x88¶ï¼\\x9aDApp æ\\x89\\x98ç®¡å\\x9c¨å\\x8cºå\\x9d\\x97é\\x93¾ä¸\\x8aï¼\\x8cè\\x80\\x8cä¸\\x8dæ\\x98¯é\\x9b\\x86ä¸\\xadå\\x8c\\x96æ\\x9c\\x8då\\x8a¡å\\x99¨ä¸\\x8a\\n\\nå°±æ\\x89\\x80æ\\x9c\\x89æ\\x84\\x8få\\x9b¾å\\x92\\x8cç\\x9b®ç\\x9a\\x84è\\x80\\x8cè¨\\x80ï¼\\x8cå\\x8cºå\\x9d\\x97é\\x93¾å\\x8fªæ\\x98¯ä¸\\x80ä¸ªæ\\x95°æ\\x8d®åº\\x93ï¼\\x9aå®\\x83å\\x8f¯ä»¥å¯¹è´¢å\\x8a¡äº¤æ\\x98\\x93ç\\xad\\x89äº\\x8bé¡¹è¿\\x9bè¡\\x8cè®°å½\\x95ã\\x80\\x82ä½\\x86ä¸\\x8eä¼\\xa0ç»\\x9fæ\\x95°æ\\x8d®åº\\x93ä¸\\x8då\\x90\\x8cï¼\\x8cå\\x8cºå\\x9d\\x97é\\x93¾æ²¡æ\\x9c\\x89ä¸\\xadå¤®ä¸»ç®¡æ\\x9cºæ\\x9e\\x84æ\\x88\\x96ä¸»æ\\x9cºã\\x80\\x82å®\\x83ä»¬å\\x8f¯ä»¥å\\x90\\x8cæ\\x97¶å\\xad\\x98å\\x9c¨äº\\x8eæ\\x95°å\\x8d\\x83å\\x8f°è®¡ç®\\x97æ\\x9cºå\\x92\\x8cæ\\x9c\\x8då\\x8a¡å\\x99¨ä¸\\x8aï¼\\x8cå¹¶ä¸\\x94å\\x8f¯ä¾\\x9bè¿\\x99ä¸ªå¤§å\\x9e\\x8bå\\x8e»ä¸\\xadå¿\\x83å\\x8c\\x96ç¾¤ä½\\x93ä¸\\xadç\\x9a\\x84æ\\x89\\x80æ\\x9c\\x89äººä½¿ç\\x94¨å\\x92\\x8cå\\x88\\x86äº«ã\\x80\\x82æ\\x9c¬è´¨ä¸\\x8aï¼\\x8cå\\x8cºå\\x9d\\x97é\\x93¾æ\\x98¯ä¸\\x80ä¸ªå¼\\x80æ\\x94¾ç\\x9a\\x84ã\\x80\\x81å\\x8f¯å\\x85¬å¼\\x80è®¿é\\x97®ç\\x9a\\x84å\\x88\\x86å¸\\x83å¼\\x8få\\x88\\x86ç±»å¸\\x90ï¼\\x8cå®\\x83å\\x8f¯ä»¥è®°å½\\x95å\\x90\\x84æ\\x96¹ä¹\\x8bé\\x97´ç\\x9a\\x84äº¤æ\\x98\\x93ã\\x80\\x82æ\\xad¤å¤\\x96ï¼\\x8cå®\\x83è¿\\x98å\\x8f¯ä»¥å\\xad\\x98å\\x82¨ç\\x89¹å®\\x9aåº\\x94ç\\x94¨æ\\x88\\x96ç½\\x91ç«\\x99ç\\x9a\\x84ç¼\\x96ç¨\\x8bç\\xad\\x89å\\x86\\x85å®¹ï¼\\x88è¿\\x99ä½¿å¾\\x97è¯¥æ\\x9c\\x8då\\x8a¡æ\\x88\\x90ä¸ºä¸\\x80é¡¹ DAppï¼\\x89ã\\x80\\x82\\n\\nè¿\\x99æ\\x98¯ Web3 ç\\x9a\\x84å\\x9fºæ\\x9c¬å®\\x89å\\x85¨ç½\\x91ä¹\\x8bä¸\\x80ï¼\\x9aä»»ä½\\x95äº¤æ\\x98\\x93è®°å½\\x95é\\x83½å¿\\x85é¡»ä¸\\x8eå\\x85¨ç\\x90\\x83æ\\x89\\x98ç®¡ç\\x9a\\x84æ\\x95°å\\x8d\\x83ä»½å\\x88\\x86ç±»å¸\\x90ï¼\\x88æ\\x88\\x96å\\x8cºå\\x9d\\x97é\\x93¾ï¼\\x89å\\x89¯æ\\x9c¬â\\x80\\x9cä¸\\x80è\\x87´â\\x80\\x9dã\\x80\\x82å\\x9c¨å\\x8cºå\\x9d\\x97é\\x93¾ä¸\\xadï¼\\x8cç\\x8b¬ç«\\x8bè®¡ç®\\x97æ\\x9cºä¹\\x8bé\\x97´è¾¾æ\\x88\\x90ç\\x9a\\x84è¿\\x99ç§\\x8dä¸\\x80è\\x87´ç§°ä¸ºâ\\x80\\x9cå\\x85±è¯\\x86â\\x80\\x9dã\\x80\\x82æ\\x89\\x80æ\\x9c\\x89ç\\x8b¬ç«\\x8bæ\\x96¹é\\x83½å¿\\x85é¡»å°±å\\x93ªäº\\x9bäº¤æ\\x98\\x93æ\\x9c\\x89æ\\x95\\x88è¾¾æ\\x88\\x90ä¸\\x80è\\x87´ï¼\\x8cå\\x9b\\xa0æ\\xad¤è\\x99\\x9aå\\x81\\x87æ\\x88\\x96æ¬ºè¯\\x88äº¤æ\\x98\\x93å\\x87\\xa0ä¹\\x8eä¸\\x8då\\x8f¯è\\x83½è\\x92\\x99æ··è¿\\x87å\\x85³ã\\x80\\x82ï¼\\x88è\\x80\\x8cå\\x9c¨ Web 2.0 ä¸\\xadï¼\\x8cå\\x8fªé\\x9c\\x80å®\\x9eæ\\x96½ä¸\\x80æ¬¡ç\\xa0´å\\x9d\\x8få\\x8d³å\\x8f¯è¿\\x9bè¡\\x8cçª\\x83å\\x8f\\x96æ\\x88\\x96æ¬ºè¯\\x88ï¼\\x9aå¯¹ä¸\\xadå¤®ä¸»ç®¡æ\\x9cºæ\\x9e\\x84ç\\x9a\\x84æ\\x95°æ\\x8d®åº\\x93è¿\\x9bè¡\\x8cé»\\x91å®¢æ\\x94»å\\x87»ã\\x80\\x82ï¼\\x89\\n\\n## Web3 ç\\x9a\\x84ä¼\\x98å\\x8a¿\\n\\nWeb3 ç\\x9a\\x84ä¸\\x80é¡¹ä¸»è¦\\x81ä¼\\x98å\\x8a¿æ\\x98¯ï¼\\x8cå®\\x83æ\\x8f\\x90ä¾\\x9bäº\\x86å\\x81\\x9cæ\\xad¢ä¾\\x9dèµ\\x96æ\\x94¿åº\\x9cã\\x80\\x81å¤§å\\x9e\\x8bé\\x93¶è¡\\x8cæ\\x88\\x96å¤§å\\x9e\\x8bç§\\x91æ\\x8a\\x80å\\x85¬å\\x8f¸ç\\xad\\x89ä¸\\xadå¤®é\\x9b\\x86æ\\x9d\\x83æ\\x89\\x80é\\x9c\\x80ç\\x9a\\x84æ\\x89\\x80æ\\x9c\\x89å·¥å\\x85·å\\x92\\x8cå\\x8e»ä¸\\xadå¿\\x83å\\x8c\\x96ã\\x80\\x82å®\\x83è®©ç\\x94¨æ\\x88·æ\\x9c\\x89æ\\x9cºä¼\\x9aæ\\x8e§å\\x88¶ Webï¼\\x8cç»§è\\x80\\x8cæ\\x89\\x98ç®¡è\\x87ªå·±ç\\x9a\\x84ç½\\x91ç«\\x99å\\x92\\x8cåº\\x94ç\\x94¨ï¼\\x8cä½¿ç\\x94¨å\\x8a\\xa0å¯\\x86æ\\x8a\\x80æ\\x9c¯è\\x87ªç\\x94±è¿\\x9bè¡\\x8cäº¤æ\\x98\\x93ï¼\\x8cæ\\x8f\\x90é«\\x98å®\\x89å\\x85¨æ\\x80§ï¼\\x88é\\x80\\x9aè¿\\x87å\\x8a\\xa0å¯\\x86æ\\x8a\\x80æ\\x9c¯ï¼\\x89ï¼\\x8cå\\x9c¨æ²¡æ\\x9c\\x89å¤§å\\x9e\\x8bç§\\x91æ\\x8a\\x80å\\x85¬å\\x8f¸ç®¡ç\\x90\\x86æ\\x9d\\x83é\\x99\\x90ç\\x9a\\x84æ\\x83\\x85å\\x86µä¸\\x8bè®¿é\\x97®æ\\x9c\\x8då\\x8a¡ï¼\\x8cå¹¶ä»\\x8eæ\\x80»ä½\\x93ä¸\\x8aé\\x81¿å\\x85\\x8då¯¹ Web 2.0 ç\\x9a\\x84é\\x9b\\x86ä¸\\xadå\\x8c\\x96æ\\x8e§å\\x88¶ã\\x80\\x82Web3 æ\\x89\\x80å\\x85·å¤\\x87ç\\x9a\\x84å\\x8e»ä¸\\xadå¿\\x83å\\x8c\\x96ç\\x89¹æ\\x80§æ\\x8f\\x90ä¾\\x9bäº\\x86å\\x90\\x84ç§\\x8dä¼\\x98å\\x8a¿å\\x92\\x8cæ\\x97\\xa0é\\x99\\x90ç\\x9a\\x84å\\x8f¯è\\x83½æ\\x80§ã\\x80\\x82\\n\\nWeb3 æ²¡æ\\x9c\\x89é\\x87\\x87ç\\x94¨ Web 2.0 ç\\x9a\\x84æ\\x8e§å\\x88¶ç»\\x93æ\\x9e\\x84ï¼\\x8cå\\x8f¯è®©äººä»¬é\\x85\\x8cæ\\x83\\x85è\\x87ªç\\x94±ä½¿ç\\x94¨äº\\x92è\\x81\\x94ç½\\x91ã\\x80\\x82ç\\x94¨æ\\x88·å\\x8f¯ä»¥æ\\x97\\xa0é\\x99\\x90å\\x88\\x9bä½\\x9cã\\x80\\x82Web3 æ\\xad£è¿\\x85é\\x80\\x9få\\x8f\\x91å±\\x95æ\\x88\\x90ä¸ºç\\x94¨æ\\x88·å½¼æ\\xad¤å\\x8f¯ä»¥è\\x87ªç\\x94±å\\x8d\\x8fä½\\x9cç\\x9a\\x84å¹³å\\x8f°ã\\x80\\x82å¼\\x80å\\x8f\\x91äººå\\x91\\x98æ\\xad£å\\x9c¨æ\\x9e\\x84å»ºå\\x88\\x9bæ\\x96°ç\\x9a\\x84 DAppï¼\\x8cè\\x80\\x8cæ\\x97\\xa0é\\x9c\\x80å\\x90\\x91å¤§å\\x9e\\x8bç§\\x91æ\\x8a\\x80å\\x85¬å\\x8f¸æ\\x94¯ä»\\x98ç§\\x9fé\\x87\\x91ã\\x80\\x82å\\x87\\xa0ä¹\\x8eæ\\x89\\x80æ\\x9c\\x89å\\x86\\x85å®¹é\\x83½æ\\x98¯å¼\\x80æº\\x90ç\\x9a\\x84ã\\x80\\x82[ä¸\\x8då\\x8f¯æ\\x9b¿ä»£ä»£å¸\\x81 (NFT)](/zh/web3/what-are-nfts/) è®©ç\\x94¨æ\\x88·æ\\x9c\\x89æ\\x9cºä¼\\x9aä»\\x8eæ\\xa0¹æ\\x9c¬ä¸\\x8aæ\\x94¹å\\x8f\\x98ä»\\x96ä»¬ä¸\\x8eæ\\x95°å\\xad\\x97èµ\\x84äº§ç\\x9a\\x84äº¤äº\\x92æ\\x96¹å¼\\x8fï¼\\x8cç»§è\\x80\\x8cå\\x9c¨ Web ä¸\\x8aå\\x88\\x9bé\\x80\\xa0å¹¶å®\\x9eé\\x99\\x85æ\\x8b¥æ\\x9c\\x89ä»·å\\x80¼ã\\x80\\x82\\n\\nè\\x80\\x8cè¿\\x99ä¸\\x80å\\x88\\x87é\\x83½å\\x8fªæ\\x98¯å\\x86°å±±ä¸\\x80è§\\x92ã\\x80\\x82Web3 ä»\\x8då±\\x9eæ\\x96°å\\x85´äº\\x8bç\\x89©ã\\x80\\x82ä½\\x86å°±å\\x83\\x8fä¹\\x8bå\\x89\\x8dç\\x9a\\x84 Web ç\\x89\\x88æ\\x9c¬ä¸\\x80æ\\xa0·ï¼\\x8cWeb3 å¾\\x88å¿«å°±ä¼\\x9aæ\\x88\\x90ä¸ºæ\\x96°å¸¸æ\\x80\\x81ã\\x80\\x82ç¤¾äº¤åª\\x92ä½\\x93ä¸\\x80åº¦ç\\x9c\\x8bèµ·æ\\x9d¥å¾\\x88å¥\\x87æ\\x80ªï¼\\x9bå¦\\x82ä»\\x8aï¼\\x88æ\\x97\\xa0è®ºå¥½å\\x9d\\x8fï¼\\x89ï¼\\x8cæ\\x88\\x91ä»¬æ\\x97\\xa0æ³\\x95æ\\x83³è±¡æ²¡æ\\x9c\\x89å®\\x83ä¸\\x96ç\\x95\\x8cä¼\\x9aå¦\\x82ä½\\x95ã\\x80\\x82äººä»¬æ\\x9c\\x80ç»\\x88å\\x8f¯ä»¥è®© Web ä¸ºå\\x85¶æ\\x9c\\x8då\\x8a¡ï¼\\x8cè\\x80\\x8cæ\\x97\\xa0æ³\\x95å¦\\x82æ\\xad¤è¦\\x81æ±\\x82é\\x82£äº\\x9bæ\\x9cªæ\\x9b¾è°\\x8bé\\x9d¢ç\\x9a\\x84å¤§å\\x9e\\x8bç§\\x91æ\\x8a\\x80å\\x85¬å\\x8f¸ã\\x80\\x82ç\\x94¨æ\\x88·ã\\x80\\x81å¼\\x80å\\x8f\\x91äººå\\x91\\x98ã\\x80\\x81å¹¿å\\x91\\x8aå\\x95\\x86å\\x8f\\x8aå\\x85¶ä»\\x96å\\x9c¨çº¿ç\\x94¨æ\\x88·æ\\x89\\x80é\\x9d¢ä¸´ç\\x9a\\x84é\\x97®é¢\\x98æ\\x98¯ï¼\\x9aæ\\x82¨æ\\x98¯å\\x90¦è·\\x9få¾\\x97ä¸\\x8aè\\x8a\\x82å¥\\x8fï¼\\x9f\\n\\nå\\x8fªé\\x9c\\x80ä¸\\x80ä¸ªæ\\x94¯æ\\x8c\\x81 Web3 ç\\x9a\\x84æµ\\x8fè§\\x88å\\x99¨ï¼\\x8cå\\x8d³å\\x8f¯å¼\\x80å§\\x8bæ\\x8e¢ç´¢ Web3ã\\x80\\x82[è¯\\x95ç\\x94¨ Brave](/zh/download/)ã\\x80\\x82Brave æ\\x98\\x93äº\\x8eè®¾ç½®ï¼\\x8cæ¯\\x94æ\\x97§ç\\x89\\x88æµ\\x8fè§\\x88å\\x99¨æ\\x9b´å¿«é\\x80\\x9fã\\x80\\x81æ\\x9b´ç§\\x81å¯\\x86ï¼\\x8cè\\x80\\x8cä¸\\x94é»\\x98è®¤æ\\x83\\x85å\\x86µä¸\\x8bä¼\\x9aæ\\x8b¦æ\\x88ªæ\\x89\\x80æ\\x9c\\x89ä»¤äººæ¯\\x9béª¨æ\\x82\\x9aç\\x84¶ç\\x9a\\x84å¹¿å\\x91\\x8aã\\x80\\x82å\\x80\\x9få\\x8a© Braveï¼\\x8cæ\\x82¨å\\x8f¯ä»¥ç«\\x8bå\\x8d³å¼\\x80å§\\x8bä½¿ç\\x94¨ DApp å\\x92\\x8cå\\x8e»ä¸\\xadå¿\\x83å\\x8c\\x96 Webã\\x80\\x82\\n\\n## æ\\x83³è¦\\x81æ\\x9b´æµ\\x81ç\\x95\\x85ç\\x9a\\x84ä¸\\x8aç½\\x91ä½\\x93éª\\x8cï¼\\x9f\\n\\nBrave æµ\\x8fè§\\x88å\\x99¨ç®\\x80å\\x8d\\x95æ\\x98\\x93ç\\x94¨ï¼\\x8cå\\x8f¯é»\\x98è®¤å±\\x8fè\\x94½å¹¿å\\x91\\x8aï¼\\x8cè®©å\\x85¨ç\\x90\\x83ç\\x94¨æ\\x88·æ\\x9b´å®\\x89å\\x85¨å¿«æ\\x8d·å\\x9c°æµ\\x8fè§\\x88ç½\\x91ç«\\x99ï¼\\x8cäº«å\\x8f\\x97æ\\x9b´è\\x88\\x92å¿\\x83ç\\x9a\\x84ä¸\\x8aç½\\x91ä½\\x93éª\\x8cã\\x80\\x82\\n\\n![Google Play Store button](/static-assets/images/optimized/playstore.zh.png)\\n![Apple App Store button](/static-assets/images/optimized/app-store-badge.zh.png)\\n\\n#### èµ\\x84æº\\x90\\n\\n#### é\\x9a\\x90ç§\\x81æ\\x9d\\x83æ\\x94¿ç\\xad\\x96\\n\\n#### æµ\\x8fè§\\x88å\\x99¨\\n\\n#### å\\x85¬å\\x8f¸\\n\\n#### ç¤¾äº¤åª\\x92ä½\\x93\\n\\n#### Other products\\n\\n#### å¹¿å\\x91\\x8a\\n\\n#### è\\x81\\x94ç³»äºº\\n\\n##### æ\\x94¯æ\\x8c\\x81\\n\\n##### å¹¿å\\x91\\x8a\\n\\n##### å\\x95\\x86ä¸\\x9a\\n\\n##### æ\\x96°\\n\\n#### å¼\\x80å\\x8f\\x91è\\x80\\x85æ\\x96\\x87æ¡£\\n\\n#### å\\x8a\\x9eå\\x85¬å®¤\\n\\n##### Brave æ\\x97§é\\x87\\x91å±±\\n\\n580 Howard St. Unit 402,  \\n San Francisco, CA 94105\\n\\n![Brave Software home](/static-assets/images/brave-logo.svg)\\n![close](/static-assets/icons/close-icon.svg)\\n![Brave logo](/static-assets/images/brave-logo-sans-text.svg)\\n\\n### å\\x8d³å°\\x86å®\\x8cæ\\x88\\x90...\\n\\n#### è¯·å\\x9c¨ Google Play åº\\x94ç\\x94¨ä¸\\xadç»§ç»\\xad [å®\\x89è£\\x85 Brave](https://laptop-updates.brave.com/download/BRV002).\\n\\n#### å®\\x89è£\\x85 Brave [App Store](https://laptop-updates.brave.com/download/BRV002).\\n\\n#### æ\\x82¨è·\\x9dç¦»ä½\\x93éª\\x8cçº¿ä¸\\x8aæ\\x9c\\x80ä½³é\\x9a\\x90ç§\\x81ä»\\x85 60 ç§\\x92ä¹\\x8bé\\x81¥äº\\x86\\n\\n##### ä¸\\x8bè½½ Brave\\n\\n##### è¿\\x90è¡\\x8cå®\\x89è£\\x85ç¨\\x8båº\\x8f\\n\\n##### å¯¼å\\x85¥è®¾ç½®\\n\\n##### ä¸\\x8bè½½ Brave\\n\\nä»\\x8e Chrome æµ\\x8fè§\\x88å\\x99¨ç\\x9a\\x84ä¸\\x8bè½½ä¸\\xadæ\\x89\\x93å¼\\x80å®\\x89è£\\x85ç¨\\x8båº\\x8fï¼\\x88å®\\x89è£\\x85ç¨\\x8båº\\x8fåº\\x94ä½\\x8däº\\x8eæ\\xad¤çª\\x97å\\x8f£ç\\x9a\\x84å\\x8f³ä¸\\x8aè§\\x92ï¼\\x89ã\\x80\\x82\\n\\n![](/static-assets/images/optimized/interstitial-step-1.png)\\n\\n##### è¿\\x90è¡\\x8cå®\\x89è£\\x85ç¨\\x8båº\\x8f\\n\\nå¦\\x82æ\\x9e\\x9cå\\x87ºç\\x8e°æ\\x8f\\x90ç¤ºï¼\\x8cè¯·å\\x9c¨ç\\x94¨æ\\x88·è®¿é\\x97®æ\\x8e§å\\x88¶å¯¹è¯\\x9dæ¡\\x86ä¸\\xadç\\x82¹å\\x87» â\\x80\\x9cæ\\x98¯â\\x80\\x9dã\\x80\\x82\\n\\n![](/static-assets/images/optimized/interstitial-step-2.png)\\n\\n##### å¯¼å\\x85¥è®¾ç½®\\n\\nç\\xad\\x89å¾\\x85å®\\x89è£\\x85å®\\x8cæ\\x88\\x90ï¼\\x8cç\\x84¶å\\x90\\x8eä»\\x8e Chrome æµ\\x8fè§\\x88å\\x99¨å¯¼å\\x85¥æµ\\x8fè§\\x88å\\x99¨è®¾ç½®ã\\x80\\x82\\n\\n![](/static-assets/images/optimized/interstitial-step-3.png)\\n\\nå¦\\x82æ\\x9e\\x9cæ²¡æ\\x9c\\x89è\\x87ªå\\x8a¨å¼\\x80å§\\x8bä¸\\x8bè½½ï¼\\x8cè¯·ç\\x82¹å\\x87»\\n[æ\\xad¤å¤\\x84](https://laptop-updates.brave.com/download/BRV002).\\n\\n[é\\x9c\\x80è¦\\x81å¸®å\\x8a©ï¼\\x9f](https://support.brave.app/hc/articles/360025390311)\\n\\n![Download QR code](/static-assets/images/interstitial-download-qr.png)'},\n",
       " {'url': 'https://www.tsg.com.tw/blog-detail3-313-1-web-1-2-3.htm',\n",
       "  'title': 'Web1.0、Web2.0、Web3.0是什麼？網頁進化史｜天矽科技客製化 ...',\n",
       "  'content': 'Web 3.0 是什麼 ... Web 3.0 是關於全球資訊網發展的一個概念，主要與基於區塊鏈的去中心化、加密貨幣以及非同質化代幣有關，這也是目前網站的趨勢與發展重點。',\n",
       "  'score': 0.609455,\n",
       "  'raw_content': None}]"
      ]
     },
     "execution_count": 31,
     "metadata": {},
     "output_type": "execute_result"
    }
   ],
   "source": []
  },
  {
   "cell_type": "markdown",
   "id": "25635003",
   "metadata": {},
   "source": [
    "### 段落输出智能体"
   ]
  },
  {
   "cell_type": "code",
   "execution_count": null,
   "id": "b4e651b0",
   "metadata": {},
   "outputs": [],
   "source": [
    "input_json_search_results = {\n",
    "    \"title\": STATE.paragraphs[0].title,\n",
    "    \"content\": STATE.paragraphs[0].content,\n",
    "    \"search_query\": search_input[\"search_query\"],\n",
    "    \"search_results\": [ result[\"raw_content\"] for result in search_output[\"results\"] if result[\"raw_content\"]]\n",
    "}\n",
    "\n",
    "\n",
    "response = client.chat.completions.create(\n",
    "    model=\"deepseek-reasoner\",\n",
    "    messages=[\n",
    "        {\"role\":\"system\",\"content\":SYSTEM_PROMPT_FIRST_SUMMARY},\n",
    "        {\"role\":\"user\",\"content\":json.dumps(input_json_first_search)}\n",
    "        ],\n",
    "    temperature=1\n",
    "    )\n",
    "\n",
    "paragraph_output = json.loads(response.choices[0].message.content)\n",
    "\n",
    "print(paragraph_output[\"paragraph_latest_state\"])"
   ]
  },
  {
   "cell_type": "markdown",
   "id": "8e334513",
   "metadata": {},
   "source": [
    "### 反思智能体"
   ]
  },
  {
   "cell_type": "code",
   "execution_count": null,
   "id": "d03f4f07",
   "metadata": {},
   "outputs": [],
   "source": [
    "input_json_reflection = {\n",
    "    \"title\": STATE.paragraphs[0].title,\n",
    "    \"content\": STATE.paragraphs[0].content,\n",
    "    \"paragraph_latest_state\": paragraph_output[\"paragraph_latest_state\"]\n",
    "}\n",
    "\n",
    "response = client.chat.completions.create(\n",
    "    model=\"deepseek-reasoner\",\n",
    "    messages=[\n",
    "        {\"role\":\"system\",\"content\":SYSTEM_PROMPT_REFLECTION},\n",
    "        {\"role\":\"user\",\"content\":json.dumps(input_json_reflection)}\n",
    "        ],\n",
    "    temperature=1\n",
    "    )\n",
    "    \n",
    "reflection_output = json.loads(response.choices[0].message.content)\n",
    "\n",
    "print(reflection_output[\"search_query\"])\n"
   ]
  }
 ],
 "metadata": {
  "kernelspec": {
   "display_name": "Python 3",
   "language": "python",
   "name": "python3"
  },
  "language_info": {
   "codemirror_mode": {
    "name": "ipython",
    "version": 3
   },
   "file_extension": ".py",
   "mimetype": "text/x-python",
   "name": "python",
   "nbconvert_exporter": "python",
   "pygments_lexer": "ipython3",
   "version": "3.12.4"
  }
 },
 "nbformat": 4,
 "nbformat_minor": 5
}
