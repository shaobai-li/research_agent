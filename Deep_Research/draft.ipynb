{
 "cells": [
  {
   "cell_type": "code",
   "execution_count": 2,
   "id": "6897a3ab",
   "metadata": {},
   "outputs": [],
   "source": [
    "import os\n",
    "from dotenv import load_dotenv\n",
    "import openai\n",
    "from dataclasses import dataclass, field\n",
    "from typing import List\n",
    "import json\n",
    "from system_prompts import SYSTEM_PROMPT_REPORT_STRUCTURE, SYSTEM_PROMPT_FIRST_SEARCH, SYSTEM_PROMPT_FIRST_SUMMARY, SYSTEM_PROMPT_REFLECTION\n",
    "from search_tool import tavily_search"
   ]
  },
  {
   "cell_type": "markdown",
   "id": "66753838",
   "metadata": {},
   "source": [
    "### 加载环境变量和预定义函数及数据结构"
   ]
  },
  {
   "cell_type": "code",
   "execution_count": null,
   "id": "29304bf6",
   "metadata": {},
   "outputs": [],
   "source": [
    "load_dotenv()\n",
    "\n",
    "@dataclass\n",
    "class Search:\n",
    "    url: str = \"\"\n",
    "    content: str = \"\"\n",
    "    \n",
    "@dataclass\n",
    "class Research:\n",
    "    search_history: List[Search] = field(default_factory=list)\n",
    "    latest_summary: str = \"\"\n",
    "    reflection_iteration: int = 0\n",
    "\n",
    "@dataclass\n",
    "class Paragraph:\n",
    "    title: str = \"\"\n",
    "    content: str = \"\"\n",
    "    research: Research = field(default_factory=Research)\n",
    "\n",
    "@dataclass\n",
    "class State:\n",
    "    report_title: str = \"\"\n",
    "    paragraphs: List[Paragraph] = field(default_factory=list)\n",
    "\n",
    "\n",
    "def clean_json_tags(json_str):\n",
    "    return json_str.replace(\"```json\", \"\").replace(\"```\", \"\").strip()\n",
    "\n",
    "def update_state_with_search_results(search_results, idx_paragraph, state):\n",
    "\n",
    "    for search_result in search_results[\"results\"]:\n",
    "        search = Search(url=search_result[\"url\"], content=search_result[\"content\"])\n",
    "        state.paragraphs[idx_paragraph].research.search_history.append(search)\n",
    "    return state\n",
    "\n"
   ]
  },
  {
   "cell_type": "markdown",
   "id": "faa26a39",
   "metadata": {},
   "source": [
    "### 初始化状态"
   ]
  },
  {
   "cell_type": "code",
   "execution_count": 4,
   "id": "da54c9c3",
   "metadata": {},
   "outputs": [],
   "source": [
    "STATE = State()"
   ]
  },
  {
   "cell_type": "markdown",
   "id": "1b52cee8",
   "metadata": {},
   "source": [
    "### 报告大纲智能体"
   ]
  },
  {
   "cell_type": "code",
   "execution_count": null,
   "id": "e43bc053",
   "metadata": {},
   "outputs": [],
   "source": [
    "class ReportStructureAgent:\n",
    "    def __init__(self):\n",
    "        self.llm = openai.OpenAI(api_key=os.getenv(\"OPENAI_API_KEY\"))\n",
    "\n",
    "    def get_system_prompt(self):        \n",
    "        output_schema_report_structure = {\n",
    "                \"type\": \"array\",\n",
    "                \"items\": {\n",
    "                    \"type\": \"object\",\n",
    "                    \"properties\": {\n",
    "                        \"title\": {\"type\": \"string\"},\n",
    "                        \"content\": {\"type\": \"string\"}\n",
    "                    }\n",
    "                }\n",
    "            }\n",
    "\n",
    "        example_output_report_structure = \"\"\"\n",
    "```json\n",
    "[\n",
    "{\n",
    "    \"title\": \"智能体的定义\",\n",
    "    \"content\": \"智能体是具有感知、决策、执行和学习能力的自主系统。\"\n",
    "},\n",
    "{\n",
    "    \"title\": \"智能体的分类\",\n",
    "    \"content\": \"智能体可以分为以下几类：\"\n",
    "}\n",
    "]\n",
    "```\n",
    "\"\"\"\n",
    "\n",
    "        system_prompt = f\"\"\"\n",
    "你是一个深度调研助手。针对一个查询任务，请规划一份报告的结构以及应包含的段落内容。\n",
    "请确保段落的排列顺序合理。\n",
    "结构制定完成后，你将获得工具来分别为每个部分进行网页搜索和反思。\n",
    "请按照以下 JSON 格式定义的格式输出结果：\n",
    "\n",
    "<OUTPUT JSON SCHEMA>\n",
    "{json.dumps(output_schema_report_structure, indent=2)}\n",
    "</OUTPUT JSON SCHEMA>\n",
    "\n",
    "标题（title）和内容（content）属性将用于后续的深入研究。\n",
    "请确保输出是一个符合上述 JSON 格式定义的 JSON 对象。\n",
    "只返回 JSON 对象，不要附加任何解释或额外文本。\n",
    "\n",
    "<EXAMPLE OUTPUT>\n",
    "{example_output_report_structure}\n",
    "</EXAMPLE OUTPUT>\n",
    "\"\"\"\n",
    "\n",
    "        return system_prompt\n",
    "        \n",
    "    def run(self, input):\n",
    "        response = self.llm.chat.completions.create(\n",
    "            model=\"gpt-4o-2024-08-06\",\n",
    "            messages=[\n",
    "                {\"role\": \"system\", \"content\": self.get_system_prompt()},\n",
    "                {\"role\": \"user\", \"content\": input}\n",
    "            ],\n",
    "            stream=False\n",
    "        )\n",
    "\n",
    "        report_structure = json.loads(clean_json_tags(response.choices[0].message.content))\n",
    "\n",
    "        return report_structure"
   ]
  },
  {
   "cell_type": "code",
   "execution_count": null,
   "id": "2ec04e65",
   "metadata": {},
   "outputs": [],
   "source": [
    "research_structure_agent = ReportStructureAgent()\n",
    "\n",
    "research_input = \"请帮我调研一下web3.0的开发\"\n",
    "\n",
    "report_structure = research_structure_agent.run(research_input)\n",
    "for paragraph in report_structure:\n",
    "    STATE.paragraphs.append(Paragraph(title=paragraph[\"title\"], content=paragraph[\"content\"]))\n",
    "\n",
    "print(\"报告大纲：\")\n",
    "for i, paragraph in enumerate(STATE.paragraphs):\n",
    "    print(f\"第{i}个段落标题: {paragraph.title}\") \n",
    "    print(f\"第{i}个段落内容: {paragraph.content}\")"
   ]
  },
  {
   "cell_type": "markdown",
   "id": "eb81090a",
   "metadata": {},
   "source": [
    "### 搜索智能体"
   ]
  },
  {
   "cell_type": "code",
   "execution_count": 21,
   "id": "b43f7967",
   "metadata": {},
   "outputs": [
    {
     "name": "stdout",
     "output_type": "stream",
     "text": [
      "Web3.0 核心概念详解：去中心化、用户数据主权、智能合约\n"
     ]
    }
   ],
   "source": [
    "input_json_first_search = {\n",
    "    \"title\": STATE.paragraphs[0].title,\n",
    "    \"content\": STATE.paragraphs[0].content\n",
    "}\n",
    "\n",
    "\n",
    "response = client.chat.completions.create(\n",
    "    model=\"deepseek-reasoner\",\n",
    "    messages=[\n",
    "        {\"role\":\"system\",\"content\":SYSTEM_PROMPT_FIRST_SEARCH},\n",
    "        {\"role\":\"user\",\"content\":json.dumps(input_json_first_search)}\n",
    "        ],\n",
    "    temperature=1\n",
    "    )\n",
    "\n",
    "search_interface = response.choices[0].message.content\n",
    "search_input = json.loads(search_interface)\n",
    "\n",
    "print(search_input[\"search_query\"])"
   ]
  },
  {
   "cell_type": "markdown",
   "id": "7cca1805",
   "metadata": {},
   "source": [
    "### 搜索工具"
   ]
  },
  {
   "cell_type": "code",
   "execution_count": 24,
   "id": "991870e7",
   "metadata": {},
   "outputs": [
    {
     "name": "stdout",
     "output_type": "stream",
     "text": [
      "https://qianfanmarket.baidu.com/article/detail/1069116\n",
      "去中心化：借助区块链技术，Web3实现了数据的去中心化存储和传输，有效降低了单点故障的风险，并提高了系统的抗攻击能力。 · 用户数据主权：在Web3时代，用户数据不再是各大平台的\n"
     ]
    }
   ],
   "source": [
    "search_keyword = search_input[\"search_query\"]\n",
    "\n",
    "search_output = tavily_search(search_input[\"search_query\"])\n",
    "\n",
    "STATE = update_state_with_search_results(search_output, 0, STATE)\n",
    "\n",
    "\n",
    "for search in STATE.paragraphs[0].research.search_history:\n",
    "    print(search.url)\n",
    "    print(search.content)\n",
    "    break\n"
   ]
  },
  {
   "cell_type": "markdown",
   "id": "25635003",
   "metadata": {},
   "source": [
    "### 段落输出智能体"
   ]
  },
  {
   "cell_type": "code",
   "execution_count": null,
   "id": "b4e651b0",
   "metadata": {},
   "outputs": [],
   "source": [
    "input_json_search_results = {\n",
    "    \"title\": STATE.paragraphs[0].title,\n",
    "    \"content\": STATE.paragraphs[0].content,\n",
    "    \"search_query\": search_input[\"search_query\"],\n",
    "    \"search_results\": [ result[\"raw_content\"] for result in search_output[\"results\"] if result[\"raw_content\"]]\n",
    "}\n",
    "\n",
    "\n",
    "response = client.chat.completions.create(\n",
    "    model=\"deepseek-reasoner\",\n",
    "    messages=[\n",
    "        {\"role\":\"system\",\"content\":SYSTEM_PROMPT_FIRST_SUMMARY},\n",
    "        {\"role\":\"user\",\"content\":json.dumps(input_json_first_search)}\n",
    "        ],\n",
    "    temperature=1\n",
    "    )\n",
    "\n",
    "paragraph_output = json.loads(response.choices[0].message.content)\n",
    "\n",
    "print(paragraph_output[\"paragraph_latest_state\"])"
   ]
  },
  {
   "cell_type": "markdown",
   "id": "8e334513",
   "metadata": {},
   "source": [
    "### 反思智能体"
   ]
  },
  {
   "cell_type": "code",
   "execution_count": null,
   "id": "d03f4f07",
   "metadata": {},
   "outputs": [],
   "source": [
    "input_json_reflection = {\n",
    "    \"title\": STATE.paragraphs[0].title,\n",
    "    \"content\": STATE.paragraphs[0].content,\n",
    "    \"paragraph_latest_state\": paragraph_output[\"paragraph_latest_state\"]\n",
    "}\n",
    "\n",
    "response = client.chat.completions.create(\n",
    "    model=\"deepseek-reasoner\",\n",
    "    messages=[\n",
    "        {\"role\":\"system\",\"content\":SYSTEM_PROMPT_REFLECTION},\n",
    "        {\"role\":\"user\",\"content\":json.dumps(input_json_reflection)}\n",
    "        ],\n",
    "    temperature=1\n",
    "    )\n",
    "    \n",
    "reflection_output = json.loads(response.choices[0].message.content)\n",
    "\n",
    "print(reflection_output[\"search_query\"])\n"
   ]
  }
 ],
 "metadata": {
  "kernelspec": {
   "display_name": "Python 3",
   "language": "python",
   "name": "python3"
  },
  "language_info": {
   "codemirror_mode": {
    "name": "ipython",
    "version": 3
   },
   "file_extension": ".py",
   "mimetype": "text/x-python",
   "name": "python",
   "nbconvert_exporter": "python",
   "pygments_lexer": "ipython3",
   "version": "3.12.4"
  }
 },
 "nbformat": 4,
 "nbformat_minor": 5
}
